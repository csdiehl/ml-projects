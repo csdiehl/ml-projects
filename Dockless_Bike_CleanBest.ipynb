{
 "cells": [
  {
   "cell_type": "code",
   "execution_count": 58,
   "metadata": {},
   "outputs": [
    {
     "data": {
      "text/html": [
       "<div>\n",
       "<style scoped>\n",
       "    .dataframe tbody tr th:only-of-type {\n",
       "        vertical-align: middle;\n",
       "    }\n",
       "\n",
       "    .dataframe tbody tr th {\n",
       "        vertical-align: top;\n",
       "    }\n",
       "\n",
       "    .dataframe thead th {\n",
       "        text-align: right;\n",
       "    }\n",
       "</style>\n",
       "<table border=\"1\" class=\"dataframe\">\n",
       "  <thead>\n",
       "    <tr style=\"text-align: right;\">\n",
       "      <th></th>\n",
       "      <th>hood</th>\n",
       "      <th>volume</th>\n",
       "      <th>peak_hour</th>\n",
       "      <th>road_primary</th>\n",
       "      <th>road_secondary</th>\n",
       "      <th>road_tertiary</th>\n",
       "      <th>floor</th>\n",
       "      <th>landuse_residential</th>\n",
       "      <th>landuse_parks</th>\n",
       "      <th>metro_station</th>\n",
       "      <th>bus_station</th>\n",
       "      <th>LUM</th>\n",
       "      <th>number_of_schools</th>\n",
       "      <th>number_of_colleges</th>\n",
       "      <th>number_of_intersection</th>\n",
       "      <th>pop_percent_female</th>\n",
       "      <th>pop_under_age15</th>\n",
       "      <th>pop_above_age65</th>\n",
       "      <th>time</th>\n",
       "      <th>date</th>\n",
       "    </tr>\n",
       "  </thead>\n",
       "  <tbody>\n",
       "    <tr>\n",
       "      <th>0</th>\n",
       "      <td>0</td>\n",
       "      <td>239</td>\n",
       "      <td>1</td>\n",
       "      <td>2.487360</td>\n",
       "      <td>3.00518</td>\n",
       "      <td>1.64307</td>\n",
       "      <td>21</td>\n",
       "      <td>0.292108</td>\n",
       "      <td>0.016096</td>\n",
       "      <td>5</td>\n",
       "      <td>11.9226</td>\n",
       "      <td>0.328019</td>\n",
       "      <td>15</td>\n",
       "      <td>0.0</td>\n",
       "      <td>0.485</td>\n",
       "      <td>0.514648</td>\n",
       "      <td>0.080044</td>\n",
       "      <td>0.139291</td>\n",
       "      <td>8</td>\n",
       "      <td>1</td>\n",
       "    </tr>\n",
       "    <tr>\n",
       "      <th>1</th>\n",
       "      <td>0</td>\n",
       "      <td>60</td>\n",
       "      <td>0</td>\n",
       "      <td>2.487360</td>\n",
       "      <td>3.00518</td>\n",
       "      <td>1.64307</td>\n",
       "      <td>21</td>\n",
       "      <td>0.292108</td>\n",
       "      <td>0.016096</td>\n",
       "      <td>5</td>\n",
       "      <td>11.9226</td>\n",
       "      <td>0.328019</td>\n",
       "      <td>15</td>\n",
       "      <td>0.0</td>\n",
       "      <td>0.485</td>\n",
       "      <td>0.514648</td>\n",
       "      <td>0.080044</td>\n",
       "      <td>0.139291</td>\n",
       "      <td>14</td>\n",
       "      <td>1</td>\n",
       "    </tr>\n",
       "    <tr>\n",
       "      <th>2</th>\n",
       "      <td>0</td>\n",
       "      <td>23</td>\n",
       "      <td>0</td>\n",
       "      <td>2.487360</td>\n",
       "      <td>3.00518</td>\n",
       "      <td>1.64307</td>\n",
       "      <td>21</td>\n",
       "      <td>0.292108</td>\n",
       "      <td>0.016096</td>\n",
       "      <td>5</td>\n",
       "      <td>11.9226</td>\n",
       "      <td>0.328019</td>\n",
       "      <td>15</td>\n",
       "      <td>0.0</td>\n",
       "      <td>0.485</td>\n",
       "      <td>0.514648</td>\n",
       "      <td>0.080044</td>\n",
       "      <td>0.139291</td>\n",
       "      <td>11</td>\n",
       "      <td>8</td>\n",
       "    </tr>\n",
       "    <tr>\n",
       "      <th>3</th>\n",
       "      <td>0</td>\n",
       "      <td>267</td>\n",
       "      <td>1</td>\n",
       "      <td>2.487360</td>\n",
       "      <td>3.00518</td>\n",
       "      <td>1.64307</td>\n",
       "      <td>21</td>\n",
       "      <td>0.292108</td>\n",
       "      <td>0.016096</td>\n",
       "      <td>5</td>\n",
       "      <td>11.9226</td>\n",
       "      <td>0.328019</td>\n",
       "      <td>15</td>\n",
       "      <td>0.0</td>\n",
       "      <td>0.485</td>\n",
       "      <td>0.514648</td>\n",
       "      <td>0.080044</td>\n",
       "      <td>0.139291</td>\n",
       "      <td>18</td>\n",
       "      <td>8</td>\n",
       "    </tr>\n",
       "    <tr>\n",
       "      <th>4</th>\n",
       "      <td>1</td>\n",
       "      <td>124</td>\n",
       "      <td>1</td>\n",
       "      <td>0.738002</td>\n",
       "      <td>3.23526</td>\n",
       "      <td>2.71876</td>\n",
       "      <td>17</td>\n",
       "      <td>0.415129</td>\n",
       "      <td>0.012700</td>\n",
       "      <td>1</td>\n",
       "      <td>17.2960</td>\n",
       "      <td>0.262185</td>\n",
       "      <td>6</td>\n",
       "      <td>0.0</td>\n",
       "      <td>0.118</td>\n",
       "      <td>0.491440</td>\n",
       "      <td>0.066955</td>\n",
       "      <td>0.130528</td>\n",
       "      <td>8</td>\n",
       "      <td>1</td>\n",
       "    </tr>\n",
       "  </tbody>\n",
       "</table>\n",
       "</div>"
      ],
      "text/plain": [
       "   hood  volume  peak_hour  road_primary  road_secondary  road_tertiary  \\\n",
       "0     0     239          1      2.487360         3.00518        1.64307   \n",
       "1     0      60          0      2.487360         3.00518        1.64307   \n",
       "2     0      23          0      2.487360         3.00518        1.64307   \n",
       "3     0     267          1      2.487360         3.00518        1.64307   \n",
       "4     1     124          1      0.738002         3.23526        2.71876   \n",
       "\n",
       "   floor  landuse_residential  landuse_parks  metro_station  bus_station  \\\n",
       "0     21             0.292108       0.016096              5      11.9226   \n",
       "1     21             0.292108       0.016096              5      11.9226   \n",
       "2     21             0.292108       0.016096              5      11.9226   \n",
       "3     21             0.292108       0.016096              5      11.9226   \n",
       "4     17             0.415129       0.012700              1      17.2960   \n",
       "\n",
       "        LUM  number_of_schools  number_of_colleges  number_of_intersection  \\\n",
       "0  0.328019                 15                 0.0                   0.485   \n",
       "1  0.328019                 15                 0.0                   0.485   \n",
       "2  0.328019                 15                 0.0                   0.485   \n",
       "3  0.328019                 15                 0.0                   0.485   \n",
       "4  0.262185                  6                 0.0                   0.118   \n",
       "\n",
       "   pop_percent_female  pop_under_age15  pop_above_age65  time  date  \n",
       "0            0.514648         0.080044         0.139291     8     1  \n",
       "1            0.514648         0.080044         0.139291    14     1  \n",
       "2            0.514648         0.080044         0.139291    11     8  \n",
       "3            0.514648         0.080044         0.139291    18     8  \n",
       "4            0.491440         0.066955         0.130528     8     1  "
      ]
     },
     "execution_count": 58,
     "metadata": {},
     "output_type": "execute_result"
    }
   ],
   "source": [
    "import pandas as pd\n",
    "import seaborn as sns\n",
    "import numpy as np\n",
    "import matplotlib.pyplot as plt\n",
    "\n",
    "df = pd.read_csv(\"bikecounts_reg.csv\")\n",
    "df.head()"
   ]
  },
  {
   "cell_type": "markdown",
   "metadata": {},
   "source": [
    "# Transforming Variables"
   ]
  },
  {
   "cell_type": "code",
   "execution_count": 59,
   "metadata": {},
   "outputs": [
    {
     "data": {
      "text/html": [
       "<div>\n",
       "<style scoped>\n",
       "    .dataframe tbody tr th:only-of-type {\n",
       "        vertical-align: middle;\n",
       "    }\n",
       "\n",
       "    .dataframe tbody tr th {\n",
       "        vertical-align: top;\n",
       "    }\n",
       "\n",
       "    .dataframe thead th {\n",
       "        text-align: right;\n",
       "    }\n",
       "</style>\n",
       "<table border=\"1\" class=\"dataframe\">\n",
       "  <thead>\n",
       "    <tr style=\"text-align: right;\">\n",
       "      <th></th>\n",
       "      <th>hood</th>\n",
       "      <th>volume</th>\n",
       "      <th>peak_hour</th>\n",
       "      <th>road_primary</th>\n",
       "      <th>road_secondary</th>\n",
       "      <th>road_tertiary</th>\n",
       "      <th>floor</th>\n",
       "      <th>landuse_residential</th>\n",
       "      <th>landuse_parks</th>\n",
       "      <th>metro_station</th>\n",
       "      <th>...</th>\n",
       "      <th>LUM</th>\n",
       "      <th>number_of_schools</th>\n",
       "      <th>number_of_colleges</th>\n",
       "      <th>number_of_intersection</th>\n",
       "      <th>pop_percent_female</th>\n",
       "      <th>pop_under_age15</th>\n",
       "      <th>pop_above_age65</th>\n",
       "      <th>time</th>\n",
       "      <th>date</th>\n",
       "      <th>volume_sqrt</th>\n",
       "    </tr>\n",
       "  </thead>\n",
       "  <tbody>\n",
       "    <tr>\n",
       "      <th>0</th>\n",
       "      <td>0</td>\n",
       "      <td>239</td>\n",
       "      <td>1</td>\n",
       "      <td>2.487360</td>\n",
       "      <td>3.00518</td>\n",
       "      <td>1.64307</td>\n",
       "      <td>21</td>\n",
       "      <td>0.292108</td>\n",
       "      <td>0.016096</td>\n",
       "      <td>5</td>\n",
       "      <td>...</td>\n",
       "      <td>0.328019</td>\n",
       "      <td>15</td>\n",
       "      <td>0.0</td>\n",
       "      <td>0.485</td>\n",
       "      <td>0.514648</td>\n",
       "      <td>0.080044</td>\n",
       "      <td>0.139291</td>\n",
       "      <td>8</td>\n",
       "      <td>1</td>\n",
       "      <td>15.459625</td>\n",
       "    </tr>\n",
       "    <tr>\n",
       "      <th>1</th>\n",
       "      <td>0</td>\n",
       "      <td>60</td>\n",
       "      <td>0</td>\n",
       "      <td>2.487360</td>\n",
       "      <td>3.00518</td>\n",
       "      <td>1.64307</td>\n",
       "      <td>21</td>\n",
       "      <td>0.292108</td>\n",
       "      <td>0.016096</td>\n",
       "      <td>5</td>\n",
       "      <td>...</td>\n",
       "      <td>0.328019</td>\n",
       "      <td>15</td>\n",
       "      <td>0.0</td>\n",
       "      <td>0.485</td>\n",
       "      <td>0.514648</td>\n",
       "      <td>0.080044</td>\n",
       "      <td>0.139291</td>\n",
       "      <td>14</td>\n",
       "      <td>1</td>\n",
       "      <td>7.745967</td>\n",
       "    </tr>\n",
       "    <tr>\n",
       "      <th>2</th>\n",
       "      <td>0</td>\n",
       "      <td>23</td>\n",
       "      <td>0</td>\n",
       "      <td>2.487360</td>\n",
       "      <td>3.00518</td>\n",
       "      <td>1.64307</td>\n",
       "      <td>21</td>\n",
       "      <td>0.292108</td>\n",
       "      <td>0.016096</td>\n",
       "      <td>5</td>\n",
       "      <td>...</td>\n",
       "      <td>0.328019</td>\n",
       "      <td>15</td>\n",
       "      <td>0.0</td>\n",
       "      <td>0.485</td>\n",
       "      <td>0.514648</td>\n",
       "      <td>0.080044</td>\n",
       "      <td>0.139291</td>\n",
       "      <td>11</td>\n",
       "      <td>8</td>\n",
       "      <td>4.795832</td>\n",
       "    </tr>\n",
       "    <tr>\n",
       "      <th>3</th>\n",
       "      <td>0</td>\n",
       "      <td>267</td>\n",
       "      <td>1</td>\n",
       "      <td>2.487360</td>\n",
       "      <td>3.00518</td>\n",
       "      <td>1.64307</td>\n",
       "      <td>21</td>\n",
       "      <td>0.292108</td>\n",
       "      <td>0.016096</td>\n",
       "      <td>5</td>\n",
       "      <td>...</td>\n",
       "      <td>0.328019</td>\n",
       "      <td>15</td>\n",
       "      <td>0.0</td>\n",
       "      <td>0.485</td>\n",
       "      <td>0.514648</td>\n",
       "      <td>0.080044</td>\n",
       "      <td>0.139291</td>\n",
       "      <td>18</td>\n",
       "      <td>8</td>\n",
       "      <td>16.340135</td>\n",
       "    </tr>\n",
       "    <tr>\n",
       "      <th>4</th>\n",
       "      <td>1</td>\n",
       "      <td>124</td>\n",
       "      <td>1</td>\n",
       "      <td>0.738002</td>\n",
       "      <td>3.23526</td>\n",
       "      <td>2.71876</td>\n",
       "      <td>17</td>\n",
       "      <td>0.415129</td>\n",
       "      <td>0.012700</td>\n",
       "      <td>1</td>\n",
       "      <td>...</td>\n",
       "      <td>0.262185</td>\n",
       "      <td>6</td>\n",
       "      <td>0.0</td>\n",
       "      <td>0.118</td>\n",
       "      <td>0.491440</td>\n",
       "      <td>0.066955</td>\n",
       "      <td>0.130528</td>\n",
       "      <td>8</td>\n",
       "      <td>1</td>\n",
       "      <td>11.135529</td>\n",
       "    </tr>\n",
       "  </tbody>\n",
       "</table>\n",
       "<p>5 rows × 21 columns</p>\n",
       "</div>"
      ],
      "text/plain": [
       "   hood  volume  peak_hour  road_primary  road_secondary  road_tertiary  \\\n",
       "0     0     239          1      2.487360         3.00518        1.64307   \n",
       "1     0      60          0      2.487360         3.00518        1.64307   \n",
       "2     0      23          0      2.487360         3.00518        1.64307   \n",
       "3     0     267          1      2.487360         3.00518        1.64307   \n",
       "4     1     124          1      0.738002         3.23526        2.71876   \n",
       "\n",
       "   floor  landuse_residential  landuse_parks  metro_station  ...       LUM  \\\n",
       "0     21             0.292108       0.016096              5  ...  0.328019   \n",
       "1     21             0.292108       0.016096              5  ...  0.328019   \n",
       "2     21             0.292108       0.016096              5  ...  0.328019   \n",
       "3     21             0.292108       0.016096              5  ...  0.328019   \n",
       "4     17             0.415129       0.012700              1  ...  0.262185   \n",
       "\n",
       "   number_of_schools  number_of_colleges  number_of_intersection  \\\n",
       "0                 15                 0.0                   0.485   \n",
       "1                 15                 0.0                   0.485   \n",
       "2                 15                 0.0                   0.485   \n",
       "3                 15                 0.0                   0.485   \n",
       "4                  6                 0.0                   0.118   \n",
       "\n",
       "   pop_percent_female  pop_under_age15  pop_above_age65  time  date  \\\n",
       "0            0.514648         0.080044         0.139291     8     1   \n",
       "1            0.514648         0.080044         0.139291    14     1   \n",
       "2            0.514648         0.080044         0.139291    11     8   \n",
       "3            0.514648         0.080044         0.139291    18     8   \n",
       "4            0.491440         0.066955         0.130528     8     1   \n",
       "\n",
       "   volume_sqrt  \n",
       "0    15.459625  \n",
       "1     7.745967  \n",
       "2     4.795832  \n",
       "3    16.340135  \n",
       "4    11.135529  \n",
       "\n",
       "[5 rows x 21 columns]"
      ]
     },
     "execution_count": 59,
     "metadata": {},
     "output_type": "execute_result"
    }
   ],
   "source": [
    "df['volume_sqrt'] = np.sqrt(df['volume'])\n",
    "df.head()"
   ]
  },
  {
   "cell_type": "code",
   "execution_count": 60,
   "metadata": {},
   "outputs": [],
   "source": [
    "df['landuse_parks_sqrt'] = np.sqrt(df['landuse_parks'])\n",
    "df['bus_station_sqrt'] = np.sqrt(df['bus_station'])\n",
    "df['number_of_intersection_sqrt'] = np.sqrt(df['number_of_intersection'])\n",
    "df['pop_above_age65_transf'] = np.sqrt(df['pop_above_age65'])\n",
    "df['road_primary_sqrt'] = np.sqrt(df['road_primary'])\n",
    "df['road_secondary_sqrt'] = np.sqrt(df['road_secondary'])\n",
    "df['road_tertiary_sqrt'] = np.sqrt(df['road_tertiary'])\n",
    "df['metro_station_sqrt'] = np.sqrt(df['metro_station'])\n",
    "df['number_of_colleges_sqrt'] = np.sqrt(df['number_of_colleges'])"
   ]
  },
  {
   "cell_type": "markdown",
   "metadata": {},
   "source": [
    "# Regression"
   ]
  },
  {
   "cell_type": "code",
   "execution_count": 61,
   "metadata": {},
   "outputs": [],
   "source": [
    "#Split by 80-20\n",
    "from sklearn import model_selection\n",
    "\n",
    "X = df[['peak_hour','road_primary_sqrt','road_secondary_sqrt','road_tertiary_sqrt','landuse_residential','landuse_parks_sqrt',\n",
    "             'bus_station_sqrt','LUM',\n",
    "             'number_of_intersection_sqrt','pop_under_age15','pop_percent_female','pop_above_age65_transf']]\n",
    "y = df['volume_sqrt']\n",
    "\n",
    "X_train, X_test, y_train, y_test = model_selection.train_test_split(X, y, test_size=0.2, random_state=1)"
   ]
  },
  {
   "cell_type": "code",
   "execution_count": 62,
   "metadata": {},
   "outputs": [
    {
     "data": {
      "text/plain": [
       "LinearRegression(copy_X=True, fit_intercept=True, n_jobs=None, normalize=False)"
      ]
     },
     "execution_count": 62,
     "metadata": {},
     "output_type": "execute_result"
    }
   ],
   "source": [
    "#Fitting the model to the Training dataset\n",
    "from sklearn.metrics import mean_squared_error, r2_score\n",
    "from sklearn.linear_model import LinearRegression\n",
    "\n",
    "regressor = LinearRegression()  \n",
    "regressor.fit(X_train, y_train)"
   ]
  },
  {
   "cell_type": "code",
   "execution_count": 63,
   "metadata": {},
   "outputs": [
    {
     "name": "stdout",
     "output_type": "stream",
     "text": [
      "31.65118268019329\n"
     ]
    },
    {
     "data": {
      "text/plain": [
       "array([  4.76314231,   1.0376155 ,   1.10086015,   1.19987486,\n",
       "        12.32698715,   3.87298992,  -0.70743622,  14.06629314,\n",
       "        -0.86448974, -88.67132631, -61.13385792,   4.78851784])"
      ]
     },
     "execution_count": 63,
     "metadata": {},
     "output_type": "execute_result"
    }
   ],
   "source": [
    "#Getting coefficients\n",
    "coeff_df = pd.DataFrame(regressor.coef_)  \n",
    "print(regressor.intercept_)\n",
    "regressor.coef_"
   ]
  },
  {
   "cell_type": "code",
   "execution_count": 64,
   "metadata": {},
   "outputs": [],
   "source": [
    "#Using the model to predict training and test data sets \n",
    "y_pred_train = regressor.predict(X_train)\n",
    "y_pred_test = regressor.predict(X_test)"
   ]
  },
  {
   "cell_type": "code",
   "execution_count": 65,
   "metadata": {},
   "outputs": [],
   "source": [
    "#Reversing the transformation for predictions\n",
    "y_pred_train_sq = np.square(y_pred_train)\n",
    "y_pred_test_sq = np.square(y_pred_test)"
   ]
  },
  {
   "cell_type": "code",
   "execution_count": 66,
   "metadata": {},
   "outputs": [],
   "source": [
    "#Reversing the transformation for dependent variable\n",
    "y_test_sq = np.square(y_test)\n",
    "y_train_sq = np.square(y_train)"
   ]
  },
  {
   "cell_type": "code",
   "execution_count": 67,
   "metadata": {},
   "outputs": [
    {
     "data": {
      "text/html": [
       "<div>\n",
       "<style scoped>\n",
       "    .dataframe tbody tr th:only-of-type {\n",
       "        vertical-align: middle;\n",
       "    }\n",
       "\n",
       "    .dataframe tbody tr th {\n",
       "        vertical-align: top;\n",
       "    }\n",
       "\n",
       "    .dataframe thead th {\n",
       "        text-align: right;\n",
       "    }\n",
       "</style>\n",
       "<table border=\"1\" class=\"dataframe\">\n",
       "  <thead>\n",
       "    <tr style=\"text-align: right;\">\n",
       "      <th></th>\n",
       "      <th>Actual</th>\n",
       "      <th>Predicted</th>\n",
       "    </tr>\n",
       "  </thead>\n",
       "  <tbody>\n",
       "    <tr>\n",
       "      <th>67</th>\n",
       "      <td>356.0</td>\n",
       "      <td>200.558632</td>\n",
       "    </tr>\n",
       "    <tr>\n",
       "      <th>146</th>\n",
       "      <td>44.0</td>\n",
       "      <td>63.020822</td>\n",
       "    </tr>\n",
       "    <tr>\n",
       "      <th>322</th>\n",
       "      <td>51.0</td>\n",
       "      <td>68.560433</td>\n",
       "    </tr>\n",
       "    <tr>\n",
       "      <th>250</th>\n",
       "      <td>15.0</td>\n",
       "      <td>7.330193</td>\n",
       "    </tr>\n",
       "    <tr>\n",
       "      <th>223</th>\n",
       "      <td>195.0</td>\n",
       "      <td>148.584495</td>\n",
       "    </tr>\n",
       "    <tr>\n",
       "      <th>366</th>\n",
       "      <td>10.0</td>\n",
       "      <td>2.503256</td>\n",
       "    </tr>\n",
       "    <tr>\n",
       "      <th>380</th>\n",
       "      <td>105.0</td>\n",
       "      <td>118.350189</td>\n",
       "    </tr>\n",
       "    <tr>\n",
       "      <th>427</th>\n",
       "      <td>72.0</td>\n",
       "      <td>82.897788</td>\n",
       "    </tr>\n",
       "    <tr>\n",
       "      <th>436</th>\n",
       "      <td>148.0</td>\n",
       "      <td>117.985759</td>\n",
       "    </tr>\n",
       "    <tr>\n",
       "      <th>92</th>\n",
       "      <td>35.0</td>\n",
       "      <td>68.519253</td>\n",
       "    </tr>\n",
       "    <tr>\n",
       "      <th>299</th>\n",
       "      <td>3.0</td>\n",
       "      <td>18.923095</td>\n",
       "    </tr>\n",
       "    <tr>\n",
       "      <th>361</th>\n",
       "      <td>46.0</td>\n",
       "      <td>15.975354</td>\n",
       "    </tr>\n",
       "    <tr>\n",
       "      <th>298</th>\n",
       "      <td>0.0</td>\n",
       "      <td>0.170630</td>\n",
       "    </tr>\n",
       "    <tr>\n",
       "      <th>197</th>\n",
       "      <td>35.0</td>\n",
       "      <td>45.690317</td>\n",
       "    </tr>\n",
       "    <tr>\n",
       "      <th>4</th>\n",
       "      <td>124.0</td>\n",
       "      <td>169.424372</td>\n",
       "    </tr>\n",
       "    <tr>\n",
       "      <th>285</th>\n",
       "      <td>91.0</td>\n",
       "      <td>66.942386</td>\n",
       "    </tr>\n",
       "    <tr>\n",
       "      <th>101</th>\n",
       "      <td>71.0</td>\n",
       "      <td>57.001890</td>\n",
       "    </tr>\n",
       "    <tr>\n",
       "      <th>323</th>\n",
       "      <td>125.0</td>\n",
       "      <td>170.126764</td>\n",
       "    </tr>\n",
       "    <tr>\n",
       "      <th>187</th>\n",
       "      <td>303.0</td>\n",
       "      <td>194.527844</td>\n",
       "    </tr>\n",
       "    <tr>\n",
       "      <th>406</th>\n",
       "      <td>18.0</td>\n",
       "      <td>33.094689</td>\n",
       "    </tr>\n",
       "    <tr>\n",
       "      <th>62</th>\n",
       "      <td>4.0</td>\n",
       "      <td>13.874145</td>\n",
       "    </tr>\n",
       "    <tr>\n",
       "      <th>185</th>\n",
       "      <td>71.0</td>\n",
       "      <td>84.349191</td>\n",
       "    </tr>\n",
       "    <tr>\n",
       "      <th>287</th>\n",
       "      <td>336.0</td>\n",
       "      <td>167.572377</td>\n",
       "    </tr>\n",
       "    <tr>\n",
       "      <th>47</th>\n",
       "      <td>49.0</td>\n",
       "      <td>39.127047</td>\n",
       "    </tr>\n",
       "    <tr>\n",
       "      <th>229</th>\n",
       "      <td>0.0</td>\n",
       "      <td>23.578040</td>\n",
       "    </tr>\n",
       "  </tbody>\n",
       "</table>\n",
       "</div>"
      ],
      "text/plain": [
       "     Actual   Predicted\n",
       "67    356.0  200.558632\n",
       "146    44.0   63.020822\n",
       "322    51.0   68.560433\n",
       "250    15.0    7.330193\n",
       "223   195.0  148.584495\n",
       "366    10.0    2.503256\n",
       "380   105.0  118.350189\n",
       "427    72.0   82.897788\n",
       "436   148.0  117.985759\n",
       "92     35.0   68.519253\n",
       "299     3.0   18.923095\n",
       "361    46.0   15.975354\n",
       "298     0.0    0.170630\n",
       "197    35.0   45.690317\n",
       "4     124.0  169.424372\n",
       "285    91.0   66.942386\n",
       "101    71.0   57.001890\n",
       "323   125.0  170.126764\n",
       "187   303.0  194.527844\n",
       "406    18.0   33.094689\n",
       "62      4.0   13.874145\n",
       "185    71.0   84.349191\n",
       "287   336.0  167.572377\n",
       "47     49.0   39.127047\n",
       "229     0.0   23.578040"
      ]
     },
     "execution_count": 67,
     "metadata": {},
     "output_type": "execute_result"
    }
   ],
   "source": [
    "#Comparing actual and predicted values\n",
    "df = pd.DataFrame({'Actual': y_test_sq, 'Predicted': y_pred_test_sq})\n",
    "df1 = df.head(25)\n",
    "df1"
   ]
  },
  {
   "cell_type": "code",
   "execution_count": 68,
   "metadata": {},
   "outputs": [
    {
     "data": {
      "text/plain": [
       "Text(0.5, 1.0, 'Residual plot')"
      ]
     },
     "execution_count": 68,
     "metadata": {},
     "output_type": "execute_result"
    },
    {
     "data": {
      "image/png": "[encoded data removed]",
      "text/plain": [
       "<Figure size 432x288 with 1 Axes>"
      ]
     },
     "metadata": {
      "needs_background": "light"
     },
     "output_type": "display_data"
    }
   ],
   "source": [
    "#residual plot\n",
    "res_plot = plt.scatter(y_pred_test_sq, (y_pred_test_sq - y_test_sq), c='b')\n",
    "plt.hlines(y=0, xmin= 0, xmax=20)\n",
    "plt.title('Residual plot')\n",
    "#plt.savefig('resLinear.png')"
   ]
  },
  {
   "cell_type": "code",
   "execution_count": 69,
   "metadata": {},
   "outputs": [
    {
     "data": {
      "image/png": "[encoded data removed]",
      "text/plain": [
       "<Figure size 720x576 with 1 Axes>"
      ]
     },
     "metadata": {
      "needs_background": "light"
     },
     "output_type": "display_data"
    },
    {
     "data": {
      "text/plain": [
       "Text(0, 0.5, 'Predicted values for y')"
      ]
     },
     "execution_count": 69,
     "metadata": {},
     "output_type": "execute_result"
    },
    {
     "data": {
      "image/png": "[encoded data removed]",
      "text/plain": [
       "<Figure size 432x288 with 1 Axes>"
      ]
     },
     "metadata": {
      "needs_background": "light"
     },
     "output_type": "display_data"
    }
   ],
   "source": [
    "#Bar plot comparing actual vs. predicted values\n",
    "\n",
    "df1.plot(kind='bar',figsize=(10,8))\n",
    "plt.grid(which='major', linestyle='-', linewidth='0.5', color='green')\n",
    "plt.grid(which='minor', linestyle=':', linewidth='0.5', color='black')\n",
    "plt.show()\n",
    "# Comparing true versus predicted values\n",
    "plt.scatter(y_test, y_pred_test, color='black')\n",
    "plt.title('Comparing true and predicted values for test set')\n",
    "plt.xlabel('True values for y')\n",
    "plt.ylabel('Predicted values for y')\n",
    "#plt.savefig('volLinear.png')"
   ]
  },
  {
   "cell_type": "code",
   "execution_count": 70,
   "metadata": {},
   "outputs": [
    {
     "data": {
      "text/plain": [
       "<matplotlib.axes._subplots.AxesSubplot at 0x28490cc90c8>"
      ]
     },
     "execution_count": 70,
     "metadata": {},
     "output_type": "execute_result"
    },
    {
     "data": {
      "image/png": "[encoded data removed]",
      "text/plain": [
       "<Figure size 432x288 with 1 Axes>"
      ]
     },
     "metadata": {
      "needs_background": "light"
     },
     "output_type": "display_data"
    }
   ],
   "source": [
    "#Coefficient magnitude\n",
    "predictors = X_train.columns\n",
    "coef = pd.Series(regressor.coef_,predictors).sort_values()\n",
    "coef.plot(kind='bar', title='Model Coefficients')"
   ]
  },
  {
   "cell_type": "code",
   "execution_count": 71,
   "metadata": {},
   "outputs": [
    {
     "name": "stdout",
     "output_type": "stream",
     "text": [
      "Mean Absolute Error: 34.462\n",
      "Mean Squared Error: 2926.557\n",
      "Root Mean Squared Error: 54.098\n",
      "R-squared = 0.6154\n"
     ]
    }
   ],
   "source": [
    "#Error Metrics\n",
    "from sklearn import metrics\n",
    "import numpy as np\n",
    "\n",
    "print('Mean Absolute Error:', \"%.3f\" %metrics.mean_absolute_error(y_test_sq, y_pred_test_sq))  \n",
    "print('Mean Squared Error:', \"%.3f\" %metrics.mean_squared_error(y_test_sq, y_pred_test_sq))  \n",
    "print('Root Mean Squared Error:', \"%.3f\" %np.sqrt(metrics.mean_squared_error(y_test_sq, y_pred_test_sq)))\n",
    "print('R-squared = %.4f' % r2_score(y_test_sq, y_pred_test_sq))"
   ]
  },
  {
   "cell_type": "code",
   "execution_count": 72,
   "metadata": {},
   "outputs": [
    {
     "data": {
      "text/html": [
       "<div>\n",
       "<style scoped>\n",
       "    .dataframe tbody tr th:only-of-type {\n",
       "        vertical-align: middle;\n",
       "    }\n",
       "\n",
       "    .dataframe tbody tr th {\n",
       "        vertical-align: top;\n",
       "    }\n",
       "\n",
       "    .dataframe thead th {\n",
       "        text-align: right;\n",
       "    }\n",
       "</style>\n",
       "<table border=\"1\" class=\"dataframe\">\n",
       "  <thead>\n",
       "    <tr style=\"text-align: right;\">\n",
       "      <th></th>\n",
       "      <th>Model</th>\n",
       "      <th>Train error</th>\n",
       "      <th>Test error</th>\n",
       "      <th>Sum of Absolute Weights</th>\n",
       "    </tr>\n",
       "  </thead>\n",
       "  <tbody>\n",
       "    <tr>\n",
       "      <th>Linear</th>\n",
       "      <td>LR</td>\n",
       "      <td>53.872459</td>\n",
       "      <td>54.09766</td>\n",
       "      <td>36.414325</td>\n",
       "    </tr>\n",
       "  </tbody>\n",
       "</table>\n",
       "</div>"
      ],
      "text/plain": [
       "       Model  Train error  Test error  Sum of Absolute Weights\n",
       "Linear    LR    53.872459    54.09766                36.414325"
      ]
     },
     "execution_count": 72,
     "metadata": {},
     "output_type": "execute_result"
    }
   ],
   "source": [
    "#Shows coefficients and train / test error\n",
    "columns = ['Model', 'Train error', 'Test error', 'Sum of Absolute Weights']\n",
    "\n",
    "values = [ 'LR', np.sqrt(mean_squared_error(y_train_sq, y_pred_train_sq)), \n",
    "           np.sqrt(mean_squared_error(y_test_sq, y_pred_test_sq)),\n",
    "           np.absolute(regressor.coef_[0]).sum() + np.absolute(regressor.intercept_)]\n",
    "\n",
    "results = pd.DataFrame([values], columns=columns, index=['Linear'])\n",
    "results"
   ]
  },
  {
   "cell_type": "markdown",
   "metadata": {},
   "source": [
    "# Ridge Regression"
   ]
  },
  {
   "cell_type": "code",
   "execution_count": 88,
   "metadata": {},
   "outputs": [
    {
     "name": "stdout",
     "output_type": "stream",
     "text": [
      "Selected alpha = 0.01\n"
     ]
    },
    {
     "data": {
      "text/html": [
       "<div>\n",
       "<style scoped>\n",
       "    .dataframe tbody tr th:only-of-type {\n",
       "        vertical-align: middle;\n",
       "    }\n",
       "\n",
       "    .dataframe tbody tr th {\n",
       "        vertical-align: top;\n",
       "    }\n",
       "\n",
       "    .dataframe thead th {\n",
       "        text-align: right;\n",
       "    }\n",
       "</style>\n",
       "<table border=\"1\" class=\"dataframe\">\n",
       "  <thead>\n",
       "    <tr style=\"text-align: right;\">\n",
       "      <th></th>\n",
       "      <th>Model</th>\n",
       "      <th>Train error</th>\n",
       "      <th>Test error</th>\n",
       "      <th>Sum of Absolute Weights</th>\n",
       "    </tr>\n",
       "  </thead>\n",
       "  <tbody>\n",
       "    <tr>\n",
       "      <th>Linear</th>\n",
       "      <td>LR</td>\n",
       "      <td>53.872459</td>\n",
       "      <td>54.097660</td>\n",
       "      <td>36.414325</td>\n",
       "    </tr>\n",
       "    <tr>\n",
       "      <th>RidgeCV</th>\n",
       "      <td>Ridge</td>\n",
       "      <td>53.949410</td>\n",
       "      <td>53.913052</td>\n",
       "      <td>29.544072</td>\n",
       "    </tr>\n",
       "  </tbody>\n",
       "</table>\n",
       "</div>"
      ],
      "text/plain": [
       "         Model  Train error  Test error  Sum of Absolute Weights\n",
       "Linear      LR    53.872459   54.097660                36.414325\n",
       "RidgeCV  Ridge    53.949410   53.913052                29.544072"
      ]
     },
     "execution_count": 88,
     "metadata": {},
     "output_type": "execute_result"
    }
   ],
   "source": [
    "from sklearn import linear_model\n",
    "\n",
    "ridge = linear_model.RidgeCV(cv=5,alphas=[0.01,0.03,.05,.07,.1])\n",
    "ridge.fit(X_train, y_train)\n",
    "y_pred_train_ridge = ridge.predict(X_train)\n",
    "y_pred_test_ridge = ridge.predict(X_test)\n",
    "\n",
    "y_pred_train_ridge_sq = np.square(y_pred_train_ridge)\n",
    "y_pred_test_ridge_sq = np.square(y_pred_test_ridge)\n",
    "\n",
    "values3 = [ 'Ridge', np.sqrt(mean_squared_error(y_train_sq, y_pred_train_ridge_sq)), \n",
    "           np.sqrt(mean_squared_error(y_test_sq, y_pred_test_ridge_sq)),\n",
    "           np.absolute(ridge.coef_[0]).sum() + np.absolute(ridge.intercept_)]\n",
    "print(\"Selected alpha = %.2f\" % ridge.alpha_)\n",
    "\n",
    "ridge_results = pd.DataFrame([values3], columns=columns, index=['RidgeCV'])\n",
    "pd.concat([results, ridge_results])"
   ]
  },
  {
   "cell_type": "code",
   "execution_count": 74,
   "metadata": {},
   "outputs": [
    {
     "data": {
      "text/plain": [
       "<matplotlib.axes._subplots.AxesSubplot at 0x28490d96e88>"
      ]
     },
     "execution_count": 74,
     "metadata": {},
     "output_type": "execute_result"
    },
    {
     "data": {
      "image/png": "[encoded data removed]",
      "text/plain": [
       "<Figure size 432x288 with 1 Axes>"
      ]
     },
     "metadata": {
      "needs_background": "light"
     },
     "output_type": "display_data"
    }
   ],
   "source": [
    "#Showing magnitudes again\n",
    "predictors = X_train.columns\n",
    "coef = pd.Series(ridge.coef_, predictors).sort_values()\n",
    "coef.plot(kind='bar', title='alpha = .1')"
   ]
  },
  {
   "cell_type": "code",
   "execution_count": 75,
   "metadata": {},
   "outputs": [
    {
     "data": {
      "text/html": [
       "<div>\n",
       "<style scoped>\n",
       "    .dataframe tbody tr th:only-of-type {\n",
       "        vertical-align: middle;\n",
       "    }\n",
       "\n",
       "    .dataframe tbody tr th {\n",
       "        vertical-align: top;\n",
       "    }\n",
       "\n",
       "    .dataframe thead th {\n",
       "        text-align: right;\n",
       "    }\n",
       "</style>\n",
       "<table border=\"1\" class=\"dataframe\">\n",
       "  <thead>\n",
       "    <tr style=\"text-align: right;\">\n",
       "      <th></th>\n",
       "      <th>Actual</th>\n",
       "      <th>Predicted</th>\n",
       "    </tr>\n",
       "  </thead>\n",
       "  <tbody>\n",
       "    <tr>\n",
       "      <th>67</th>\n",
       "      <td>356.0</td>\n",
       "      <td>200.558632</td>\n",
       "    </tr>\n",
       "    <tr>\n",
       "      <th>146</th>\n",
       "      <td>44.0</td>\n",
       "      <td>63.020822</td>\n",
       "    </tr>\n",
       "    <tr>\n",
       "      <th>322</th>\n",
       "      <td>51.0</td>\n",
       "      <td>68.560433</td>\n",
       "    </tr>\n",
       "    <tr>\n",
       "      <th>250</th>\n",
       "      <td>15.0</td>\n",
       "      <td>7.330193</td>\n",
       "    </tr>\n",
       "    <tr>\n",
       "      <th>223</th>\n",
       "      <td>195.0</td>\n",
       "      <td>148.584495</td>\n",
       "    </tr>\n",
       "    <tr>\n",
       "      <th>366</th>\n",
       "      <td>10.0</td>\n",
       "      <td>2.503256</td>\n",
       "    </tr>\n",
       "    <tr>\n",
       "      <th>380</th>\n",
       "      <td>105.0</td>\n",
       "      <td>118.350189</td>\n",
       "    </tr>\n",
       "    <tr>\n",
       "      <th>427</th>\n",
       "      <td>72.0</td>\n",
       "      <td>82.897788</td>\n",
       "    </tr>\n",
       "    <tr>\n",
       "      <th>436</th>\n",
       "      <td>148.0</td>\n",
       "      <td>117.985759</td>\n",
       "    </tr>\n",
       "    <tr>\n",
       "      <th>92</th>\n",
       "      <td>35.0</td>\n",
       "      <td>68.519253</td>\n",
       "    </tr>\n",
       "    <tr>\n",
       "      <th>299</th>\n",
       "      <td>3.0</td>\n",
       "      <td>18.923095</td>\n",
       "    </tr>\n",
       "    <tr>\n",
       "      <th>361</th>\n",
       "      <td>46.0</td>\n",
       "      <td>15.975354</td>\n",
       "    </tr>\n",
       "    <tr>\n",
       "      <th>298</th>\n",
       "      <td>0.0</td>\n",
       "      <td>0.170630</td>\n",
       "    </tr>\n",
       "    <tr>\n",
       "      <th>197</th>\n",
       "      <td>35.0</td>\n",
       "      <td>45.690317</td>\n",
       "    </tr>\n",
       "    <tr>\n",
       "      <th>4</th>\n",
       "      <td>124.0</td>\n",
       "      <td>169.424372</td>\n",
       "    </tr>\n",
       "    <tr>\n",
       "      <th>285</th>\n",
       "      <td>91.0</td>\n",
       "      <td>66.942386</td>\n",
       "    </tr>\n",
       "    <tr>\n",
       "      <th>101</th>\n",
       "      <td>71.0</td>\n",
       "      <td>57.001890</td>\n",
       "    </tr>\n",
       "    <tr>\n",
       "      <th>323</th>\n",
       "      <td>125.0</td>\n",
       "      <td>170.126764</td>\n",
       "    </tr>\n",
       "    <tr>\n",
       "      <th>187</th>\n",
       "      <td>303.0</td>\n",
       "      <td>194.527844</td>\n",
       "    </tr>\n",
       "    <tr>\n",
       "      <th>406</th>\n",
       "      <td>18.0</td>\n",
       "      <td>33.094689</td>\n",
       "    </tr>\n",
       "    <tr>\n",
       "      <th>62</th>\n",
       "      <td>4.0</td>\n",
       "      <td>13.874145</td>\n",
       "    </tr>\n",
       "    <tr>\n",
       "      <th>185</th>\n",
       "      <td>71.0</td>\n",
       "      <td>84.349191</td>\n",
       "    </tr>\n",
       "    <tr>\n",
       "      <th>287</th>\n",
       "      <td>336.0</td>\n",
       "      <td>167.572377</td>\n",
       "    </tr>\n",
       "    <tr>\n",
       "      <th>47</th>\n",
       "      <td>49.0</td>\n",
       "      <td>39.127047</td>\n",
       "    </tr>\n",
       "    <tr>\n",
       "      <th>229</th>\n",
       "      <td>0.0</td>\n",
       "      <td>23.578040</td>\n",
       "    </tr>\n",
       "  </tbody>\n",
       "</table>\n",
       "</div>"
      ],
      "text/plain": [
       "     Actual   Predicted\n",
       "67    356.0  200.558632\n",
       "146    44.0   63.020822\n",
       "322    51.0   68.560433\n",
       "250    15.0    7.330193\n",
       "223   195.0  148.584495\n",
       "366    10.0    2.503256\n",
       "380   105.0  118.350189\n",
       "427    72.0   82.897788\n",
       "436   148.0  117.985759\n",
       "92     35.0   68.519253\n",
       "299     3.0   18.923095\n",
       "361    46.0   15.975354\n",
       "298     0.0    0.170630\n",
       "197    35.0   45.690317\n",
       "4     124.0  169.424372\n",
       "285    91.0   66.942386\n",
       "101    71.0   57.001890\n",
       "323   125.0  170.126764\n",
       "187   303.0  194.527844\n",
       "406    18.0   33.094689\n",
       "62      4.0   13.874145\n",
       "185    71.0   84.349191\n",
       "287   336.0  167.572377\n",
       "47     49.0   39.127047\n",
       "229     0.0   23.578040"
      ]
     },
     "execution_count": 75,
     "metadata": {},
     "output_type": "execute_result"
    }
   ],
   "source": [
    "df2 = pd.DataFrame({'Actual': y_test_sq, 'Predicted': y_pred_test_ridge_sq})\n",
    "df3 = df.head(25)\n",
    "df3"
   ]
  },
  {
   "cell_type": "markdown",
   "metadata": {},
   "source": [
    "# Lasso Regression and Overall Results"
   ]
  },
  {
   "cell_type": "code",
   "execution_count": 76,
   "metadata": {},
   "outputs": [
    {
     "name": "stdout",
     "output_type": "stream",
     "text": [
      "Selected alpha = 0.01\n"
     ]
    },
    {
     "data": {
      "text/html": [
       "<div>\n",
       "<style scoped>\n",
       "    .dataframe tbody tr th:only-of-type {\n",
       "        vertical-align: middle;\n",
       "    }\n",
       "\n",
       "    .dataframe tbody tr th {\n",
       "        vertical-align: top;\n",
       "    }\n",
       "\n",
       "    .dataframe thead th {\n",
       "        text-align: right;\n",
       "    }\n",
       "</style>\n",
       "<table border=\"1\" class=\"dataframe\">\n",
       "  <thead>\n",
       "    <tr style=\"text-align: right;\">\n",
       "      <th></th>\n",
       "      <th>Model</th>\n",
       "      <th>Train error</th>\n",
       "      <th>Test error</th>\n",
       "      <th>Sum of Absolute Weights</th>\n",
       "    </tr>\n",
       "  </thead>\n",
       "  <tbody>\n",
       "    <tr>\n",
       "      <th>Linear</th>\n",
       "      <td>LR</td>\n",
       "      <td>53.872459</td>\n",
       "      <td>54.097660</td>\n",
       "      <td>36.414325</td>\n",
       "    </tr>\n",
       "    <tr>\n",
       "      <th>RidgeCV</th>\n",
       "      <td>Ridge</td>\n",
       "      <td>53.949410</td>\n",
       "      <td>53.913052</td>\n",
       "      <td>29.544072</td>\n",
       "    </tr>\n",
       "    <tr>\n",
       "      <th>LassoCV</th>\n",
       "      <td>Lasso</td>\n",
       "      <td>56.761023</td>\n",
       "      <td>56.983973</td>\n",
       "      <td>7.837646</td>\n",
       "    </tr>\n",
       "  </tbody>\n",
       "</table>\n",
       "</div>"
      ],
      "text/plain": [
       "         Model  Train error  Test error  Sum of Absolute Weights\n",
       "Linear      LR    53.872459   54.097660                36.414325\n",
       "RidgeCV  Ridge    53.949410   53.913052                29.544072\n",
       "LassoCV  Lasso    56.761023   56.983973                 7.837646"
      ]
     },
     "execution_count": 76,
     "metadata": {},
     "output_type": "execute_result"
    }
   ],
   "source": [
    "lasso = linear_model.LassoCV(cv=5, max_iter = 100000, alphas=[0.01,0.03,0.05,0.07,0.1])\n",
    "lasso.fit(X_train, y_train)\n",
    "y_pred_train_lasso = lasso.predict(X_train)\n",
    "y_pred_test_lasso = lasso.predict(X_test)\n",
    "\n",
    "y_pred_train_lasso_sq = np.square(y_pred_train_lasso)\n",
    "y_pred_test_lasso_sq = np.square(y_pred_test_lasso)\n",
    "\n",
    "values4 = [ 'Lasso', np.sqrt(mean_squared_error(y_train_sq, y_pred_train_lasso_sq)), \n",
    "           np.sqrt(mean_squared_error(y_test_sq, y_pred_test_lasso_sq)),\n",
    "           np.absolute(lasso.coef_[0]).sum() + np.absolute(lasso.intercept_)]\n",
    "print(\"Selected alpha = %.2f\" % lasso.alpha_)\n",
    "\n",
    "lasso_results = pd.DataFrame([values4], columns=columns, index=['LassoCV'])\n",
    "pd.concat([results, ridge_results, lasso_results])"
   ]
  },
  {
   "cell_type": "code",
   "execution_count": 77,
   "metadata": {},
   "outputs": [
    {
     "name": "stdout",
     "output_type": "stream",
     "text": [
      "R-squared = 0.6026\n",
      "R-squared = 0.6015\n",
      "R-squared = 0.5588\n",
      "R-squared = 0.6154\n",
      "R-squared = 0.6180\n",
      "R-squared = 0.5733\n"
     ]
    }
   ],
   "source": [
    "print('R-squared = %.4f' % r2_score(y_train_sq, y_pred_train_sq))\n",
    "print('R-squared = %.4f' % r2_score(y_train_sq, y_pred_train_ridge_sq))\n",
    "print('R-squared = %.4f' % r2_score(y_train_sq, y_pred_train_lasso_sq))\n",
    "\n",
    "print('R-squared = %.4f' % r2_score(y_test_sq, y_pred_test_sq))\n",
    "print('R-squared = %.4f' % r2_score(y_test_sq, y_pred_test_ridge_sq))\n",
    "print('R-squared = %.4f' % r2_score(y_test_sq, y_pred_test_lasso_sq))"
   ]
  },
  {
   "cell_type": "code",
   "execution_count": 89,
   "metadata": {},
   "outputs": [],
   "source": [
    "coeff_all = pd.DataFrame({'linear':regressor.coef_,'ridge':ridge.coef_,'lasso':lasso.coef_})\n",
    "coeff_all = coeff_all.sort_values(by = 'linear').round(3)"
   ]
  },
  {
   "cell_type": "code",
   "execution_count": 79,
   "metadata": {},
   "outputs": [
    {
     "data": {
      "text/plain": [
       "<matplotlib.axes._subplots.AxesSubplot at 0x2848fb555c8>"
      ]
     },
     "execution_count": 79,
     "metadata": {},
     "output_type": "execute_result"
    },
    {
     "data": {
      "image/png": "[encoded data removed]",
      "text/plain": [
       "<Figure size 432x288 with 1 Axes>"
      ]
     },
     "metadata": {
      "needs_background": "light"
     },
     "output_type": "display_data"
    }
   ],
   "source": [
    "#LASSO coefficients plot\n",
    "predictors = X_train.columns\n",
    "coef = pd.Series(lasso.coef_, predictors).sort_values()\n",
    "coef.plot(kind='bar', title ='alpha = .1')"
   ]
  },
  {
   "cell_type": "code",
   "execution_count": 80,
   "metadata": {},
   "outputs": [
    {
     "data": {
      "text/html": [
       "<div>\n",
       "<style scoped>\n",
       "    .dataframe tbody tr th:only-of-type {\n",
       "        vertical-align: middle;\n",
       "    }\n",
       "\n",
       "    .dataframe tbody tr th {\n",
       "        vertical-align: top;\n",
       "    }\n",
       "\n",
       "    .dataframe thead th {\n",
       "        text-align: right;\n",
       "    }\n",
       "</style>\n",
       "<table border=\"1\" class=\"dataframe\">\n",
       "  <thead>\n",
       "    <tr style=\"text-align: right;\">\n",
       "      <th></th>\n",
       "      <th>Actual</th>\n",
       "      <th>Predicted</th>\n",
       "    </tr>\n",
       "  </thead>\n",
       "  <tbody>\n",
       "    <tr>\n",
       "      <th>67</th>\n",
       "      <td>356.0</td>\n",
       "      <td>200.558632</td>\n",
       "    </tr>\n",
       "    <tr>\n",
       "      <th>146</th>\n",
       "      <td>44.0</td>\n",
       "      <td>63.020822</td>\n",
       "    </tr>\n",
       "    <tr>\n",
       "      <th>322</th>\n",
       "      <td>51.0</td>\n",
       "      <td>68.560433</td>\n",
       "    </tr>\n",
       "    <tr>\n",
       "      <th>250</th>\n",
       "      <td>15.0</td>\n",
       "      <td>7.330193</td>\n",
       "    </tr>\n",
       "    <tr>\n",
       "      <th>223</th>\n",
       "      <td>195.0</td>\n",
       "      <td>148.584495</td>\n",
       "    </tr>\n",
       "    <tr>\n",
       "      <th>366</th>\n",
       "      <td>10.0</td>\n",
       "      <td>2.503256</td>\n",
       "    </tr>\n",
       "    <tr>\n",
       "      <th>380</th>\n",
       "      <td>105.0</td>\n",
       "      <td>118.350189</td>\n",
       "    </tr>\n",
       "    <tr>\n",
       "      <th>427</th>\n",
       "      <td>72.0</td>\n",
       "      <td>82.897788</td>\n",
       "    </tr>\n",
       "    <tr>\n",
       "      <th>436</th>\n",
       "      <td>148.0</td>\n",
       "      <td>117.985759</td>\n",
       "    </tr>\n",
       "    <tr>\n",
       "      <th>92</th>\n",
       "      <td>35.0</td>\n",
       "      <td>68.519253</td>\n",
       "    </tr>\n",
       "    <tr>\n",
       "      <th>299</th>\n",
       "      <td>3.0</td>\n",
       "      <td>18.923095</td>\n",
       "    </tr>\n",
       "    <tr>\n",
       "      <th>361</th>\n",
       "      <td>46.0</td>\n",
       "      <td>15.975354</td>\n",
       "    </tr>\n",
       "    <tr>\n",
       "      <th>298</th>\n",
       "      <td>0.0</td>\n",
       "      <td>0.170630</td>\n",
       "    </tr>\n",
       "    <tr>\n",
       "      <th>197</th>\n",
       "      <td>35.0</td>\n",
       "      <td>45.690317</td>\n",
       "    </tr>\n",
       "    <tr>\n",
       "      <th>4</th>\n",
       "      <td>124.0</td>\n",
       "      <td>169.424372</td>\n",
       "    </tr>\n",
       "    <tr>\n",
       "      <th>285</th>\n",
       "      <td>91.0</td>\n",
       "      <td>66.942386</td>\n",
       "    </tr>\n",
       "    <tr>\n",
       "      <th>101</th>\n",
       "      <td>71.0</td>\n",
       "      <td>57.001890</td>\n",
       "    </tr>\n",
       "    <tr>\n",
       "      <th>323</th>\n",
       "      <td>125.0</td>\n",
       "      <td>170.126764</td>\n",
       "    </tr>\n",
       "    <tr>\n",
       "      <th>187</th>\n",
       "      <td>303.0</td>\n",
       "      <td>194.527844</td>\n",
       "    </tr>\n",
       "    <tr>\n",
       "      <th>406</th>\n",
       "      <td>18.0</td>\n",
       "      <td>33.094689</td>\n",
       "    </tr>\n",
       "    <tr>\n",
       "      <th>62</th>\n",
       "      <td>4.0</td>\n",
       "      <td>13.874145</td>\n",
       "    </tr>\n",
       "    <tr>\n",
       "      <th>185</th>\n",
       "      <td>71.0</td>\n",
       "      <td>84.349191</td>\n",
       "    </tr>\n",
       "    <tr>\n",
       "      <th>287</th>\n",
       "      <td>336.0</td>\n",
       "      <td>167.572377</td>\n",
       "    </tr>\n",
       "    <tr>\n",
       "      <th>47</th>\n",
       "      <td>49.0</td>\n",
       "      <td>39.127047</td>\n",
       "    </tr>\n",
       "    <tr>\n",
       "      <th>229</th>\n",
       "      <td>0.0</td>\n",
       "      <td>23.578040</td>\n",
       "    </tr>\n",
       "  </tbody>\n",
       "</table>\n",
       "</div>"
      ],
      "text/plain": [
       "     Actual   Predicted\n",
       "67    356.0  200.558632\n",
       "146    44.0   63.020822\n",
       "322    51.0   68.560433\n",
       "250    15.0    7.330193\n",
       "223   195.0  148.584495\n",
       "366    10.0    2.503256\n",
       "380   105.0  118.350189\n",
       "427    72.0   82.897788\n",
       "436   148.0  117.985759\n",
       "92     35.0   68.519253\n",
       "299     3.0   18.923095\n",
       "361    46.0   15.975354\n",
       "298     0.0    0.170630\n",
       "197    35.0   45.690317\n",
       "4     124.0  169.424372\n",
       "285    91.0   66.942386\n",
       "101    71.0   57.001890\n",
       "323   125.0  170.126764\n",
       "187   303.0  194.527844\n",
       "406    18.0   33.094689\n",
       "62      4.0   13.874145\n",
       "185    71.0   84.349191\n",
       "287   336.0  167.572377\n",
       "47     49.0   39.127047\n",
       "229     0.0   23.578040"
      ]
     },
     "execution_count": 80,
     "metadata": {},
     "output_type": "execute_result"
    }
   ],
   "source": [
    "df4 = pd.DataFrame({'Actual': y_test_sq, 'Predicted': y_pred_test_lasso_sq})\n",
    "df5 = df.head(25)\n",
    "df5"
   ]
  },
  {
   "cell_type": "markdown",
   "metadata": {},
   "source": [
    "# Plots"
   ]
  },
  {
   "cell_type": "code",
   "execution_count": 81,
   "metadata": {},
   "outputs": [
    {
     "data": {
      "image/png": "[encoded data removed]",
      "text/plain": [
       "<Figure size 720x576 with 1 Axes>"
      ]
     },
     "metadata": {
      "needs_background": "light"
     },
     "output_type": "display_data"
    },
    {
     "data": {
      "text/plain": [
       "Text(0, 0.5, 'Predicted values for y')"
      ]
     },
     "execution_count": 81,
     "metadata": {},
     "output_type": "execute_result"
    },
    {
     "data": {
      "image/png": "[encoded data removed]",
      "text/plain": [
       "<Figure size 432x288 with 1 Axes>"
      ]
     },
     "metadata": {
      "needs_background": "light"
     },
     "output_type": "display_data"
    }
   ],
   "source": [
    "#Ridge Plot\n",
    "df3.plot(kind='bar',figsize=(10,8))\n",
    "plt.grid(which='major', linestyle='-', linewidth='0.5', color='green')\n",
    "plt.grid(which='minor', linestyle=':', linewidth='0.5', color='black')\n",
    "plt.show()\n",
    "# Comparing true versus predicted values\n",
    "plt.scatter(y_test, y_pred_test, color='black')\n",
    "plt.title('Comparing true and predicted values for test set')\n",
    "plt.xlabel('True values for y')\n",
    "plt.ylabel('Predicted values for y')\n",
    "#plt.savefig('volRidge.png')"
   ]
  },
  {
   "cell_type": "code",
   "execution_count": 82,
   "metadata": {},
   "outputs": [
    {
     "data": {
      "text/plain": [
       "Text(0.5, 1.0, 'Residual plot')"
      ]
     },
     "execution_count": 82,
     "metadata": {},
     "output_type": "execute_result"
    },
    {
     "data": {
      "image/png": "[encoded data removed]",
      "text/plain": [
       "<Figure size 432x288 with 1 Axes>"
      ]
     },
     "metadata": {
      "needs_background": "light"
     },
     "output_type": "display_data"
    }
   ],
   "source": [
    "#Ridge Residual\n",
    "res_plot2 = plt.scatter(y_pred_test_ridge_sq, (y_pred_test_ridge_sq - y_test_sq), c='b')\n",
    "plt.hlines(y=0, xmin= 0, xmax=20)\n",
    "plt.title('Residual plot')\n",
    "#plt.savefig('resRidge.png')"
   ]
  },
  {
   "cell_type": "code",
   "execution_count": 83,
   "metadata": {},
   "outputs": [
    {
     "data": {
      "image/png": "[encoded data removed]",
      "text/plain": [
       "<Figure size 720x576 with 1 Axes>"
      ]
     },
     "metadata": {
      "needs_background": "light"
     },
     "output_type": "display_data"
    },
    {
     "data": {
      "text/plain": [
       "Text(0, 0.5, 'Predicted values for y')"
      ]
     },
     "execution_count": 83,
     "metadata": {},
     "output_type": "execute_result"
    },
    {
     "data": {
      "image/png": "[encoded data removed]",
      "text/plain": [
       "<Figure size 432x288 with 1 Axes>"
      ]
     },
     "metadata": {
      "needs_background": "light"
     },
     "output_type": "display_data"
    }
   ],
   "source": [
    "#LASSO Plot\n",
    "df5.plot(kind='bar',figsize=(10,8))\n",
    "plt.grid(which='major', linestyle='-', linewidth='0.5', color='green')\n",
    "plt.grid(which='minor', linestyle=':', linewidth='0.5', color='black')\n",
    "plt.show()\n",
    "# Comparing true versus predicted values\n",
    "plt.scatter(y_test, y_pred_test_lasso, color='black')\n",
    "plt.title('Comparing true and predicted values for test set')\n",
    "plt.xlabel('True values for y')\n",
    "plt.ylabel('Predicted values for y')\n",
    "#plt.savefig('volLasso.png')"
   ]
  },
  {
   "cell_type": "code",
   "execution_count": 84,
   "metadata": {},
   "outputs": [
    {
     "data": {
      "text/plain": [
       "Text(0.5, 1.0, 'Residual plot')"
      ]
     },
     "execution_count": 84,
     "metadata": {},
     "output_type": "execute_result"
    },
    {
     "data": {
      "image/png": "[encoded data removed]",
      "text/plain": [
       "<Figure size 432x288 with 1 Axes>"
      ]
     },
     "metadata": {
      "needs_background": "light"
     },
     "output_type": "display_data"
    }
   ],
   "source": [
    "#lasso residuals\n",
    "res_plot2 = plt.scatter(y_pred_test_lasso_sq, (y_pred_test_lasso_sq - y_test_sq), c='b')\n",
    "plt.hlines(y=0, xmin= 0, xmax=20)\n",
    "plt.title('Residual plot')\n",
    "#plt.savefig('resLasso.png')"
   ]
  }
 ],
 "metadata": {
  "kernelspec": {
   "display_name": "Python 3",
   "language": "python",
   "name": "python3"
  },
  "language_info": {
   "codemirror_mode": {
    "name": "ipython",
    "version": 3
   },
   "file_extension": ".py",
   "mimetype": "text/x-python",
   "name": "python",
   "nbconvert_exporter": "python",
   "pygments_lexer": "ipython3",
   "version": "3.7.6"
  }
 },
 "nbformat": 4,
 "nbformat_minor": 4
}
