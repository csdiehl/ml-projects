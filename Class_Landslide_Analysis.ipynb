{
 "cells": [
  {
   "cell_type": "code",
   "execution_count": 119,
   "metadata": {},
   "outputs": [
    {
     "data": {
      "text/html": [
       "<div>\n",
       "<style scoped>\n",
       "    .dataframe tbody tr th:only-of-type {\n",
       "        vertical-align: middle;\n",
       "    }\n",
       "\n",
       "    .dataframe tbody tr th {\n",
       "        vertical-align: top;\n",
       "    }\n",
       "\n",
       "    .dataframe thead th {\n",
       "        text-align: right;\n",
       "    }\n",
       "</style>\n",
       "<table border=\"1\" class=\"dataframe\">\n",
       "  <thead>\n",
       "    <tr style=\"text-align: right;\">\n",
       "      <th></th>\n",
       "      <th>Unnamed: 0</th>\n",
       "      <th>LS_type</th>\n",
       "      <th>DA_area</th>\n",
       "      <th>prob_inh</th>\n",
       "      <th>prob_dyn</th>\n",
       "      <th>slope_tan</th>\n",
       "      <th>elevation</th>\n",
       "      <th>curvature</th>\n",
       "      <th>aspect</th>\n",
       "      <th>wet_index</th>\n",
       "      <th>litho</th>\n",
       "      <th>lulc</th>\n",
       "    </tr>\n",
       "  </thead>\n",
       "  <tbody>\n",
       "    <tr>\n",
       "      <th>0</th>\n",
       "      <td>5590629</td>\n",
       "      <td>0</td>\n",
       "      <td>3.0</td>\n",
       "      <td>0.0222</td>\n",
       "      <td>0.000</td>\n",
       "      <td>0.590219</td>\n",
       "      <td>1187.2250</td>\n",
       "      <td>0.032023</td>\n",
       "      <td>0.808429</td>\n",
       "      <td>5.473453</td>\n",
       "      <td>3.0</td>\n",
       "      <td>41.0</td>\n",
       "    </tr>\n",
       "    <tr>\n",
       "      <th>1</th>\n",
       "      <td>6890003</td>\n",
       "      <td>0</td>\n",
       "      <td>3.0</td>\n",
       "      <td>0.0156</td>\n",
       "      <td>0.140</td>\n",
       "      <td>1.238201</td>\n",
       "      <td>1215.5310</td>\n",
       "      <td>0.681722</td>\n",
       "      <td>11.066680</td>\n",
       "      <td>4.919455</td>\n",
       "      <td>6.0</td>\n",
       "      <td>41.0</td>\n",
       "    </tr>\n",
       "    <tr>\n",
       "      <th>2</th>\n",
       "      <td>1668619</td>\n",
       "      <td>0</td>\n",
       "      <td>3.0</td>\n",
       "      <td>0.0304</td>\n",
       "      <td>0.000</td>\n",
       "      <td>0.504280</td>\n",
       "      <td>920.3857</td>\n",
       "      <td>0.960537</td>\n",
       "      <td>105.222600</td>\n",
       "      <td>5.267390</td>\n",
       "      <td>5.0</td>\n",
       "      <td>41.0</td>\n",
       "    </tr>\n",
       "    <tr>\n",
       "      <th>3</th>\n",
       "      <td>2848326</td>\n",
       "      <td>0</td>\n",
       "      <td>3.0</td>\n",
       "      <td>0.0958</td>\n",
       "      <td>0.000</td>\n",
       "      <td>0.528550</td>\n",
       "      <td>850.8190</td>\n",
       "      <td>-0.689792</td>\n",
       "      <td>272.803000</td>\n",
       "      <td>7.695759</td>\n",
       "      <td>1.0</td>\n",
       "      <td>41.0</td>\n",
       "    </tr>\n",
       "    <tr>\n",
       "      <th>4</th>\n",
       "      <td>1870080</td>\n",
       "      <td>0</td>\n",
       "      <td>3.0</td>\n",
       "      <td>0.0404</td>\n",
       "      <td>0.004</td>\n",
       "      <td>0.635189</td>\n",
       "      <td>1645.8110</td>\n",
       "      <td>0.965224</td>\n",
       "      <td>103.165300</td>\n",
       "      <td>6.052179</td>\n",
       "      <td>5.0</td>\n",
       "      <td>52.0</td>\n",
       "    </tr>\n",
       "  </tbody>\n",
       "</table>\n",
       "</div>"
      ],
      "text/plain": [
       "   Unnamed: 0  LS_type  DA_area  prob_inh  prob_dyn  slope_tan  elevation  \\\n",
       "0     5590629        0      3.0    0.0222     0.000   0.590219  1187.2250   \n",
       "1     6890003        0      3.0    0.0156     0.140   1.238201  1215.5310   \n",
       "2     1668619        0      3.0    0.0304     0.000   0.504280   920.3857   \n",
       "3     2848326        0      3.0    0.0958     0.000   0.528550   850.8190   \n",
       "4     1870080        0      3.0    0.0404     0.004   0.635189  1645.8110   \n",
       "\n",
       "   curvature      aspect  wet_index  litho  lulc  \n",
       "0   0.032023    0.808429   5.473453    3.0  41.0  \n",
       "1   0.681722   11.066680   4.919455    6.0  41.0  \n",
       "2   0.960537  105.222600   5.267390    5.0  41.0  \n",
       "3  -0.689792  272.803000   7.695759    1.0  41.0  \n",
       "4   0.965224  103.165300   6.052179    5.0  52.0  "
      ]
     },
     "execution_count": 119,
     "metadata": {},
     "output_type": "execute_result"
    }
   ],
   "source": [
    "import pandas as pd\n",
    "import numpy as np\n",
    "import seaborn as sns\n",
    "import matplotlib.pyplot as plt\n",
    "\n",
    "df = pd.read_csv(\"class_data.csv\")\n",
    "df.head()"
   ]
  },
  {
   "cell_type": "code",
   "execution_count": 120,
   "metadata": {},
   "outputs": [],
   "source": [
    "df.drop(df.columns[0], axis=1, inplace = True)"
   ]
  },
  {
   "cell_type": "code",
   "execution_count": 121,
   "metadata": {},
   "outputs": [],
   "source": [
    "from sklearn.preprocessing import OneHotEncoder\n",
    "\n",
    "labels = ['1','3','4','5','6','7']\n",
    "\n",
    "gen_ohe = OneHotEncoder()\n",
    "gen_feature_arr = gen_ohe.fit_transform(\n",
    "                              df[['litho']]).toarray()\n",
    "gen_feature_labels = labels\n",
    "gen_features = pd.DataFrame(gen_feature_arr, \n",
    "                            columns=gen_feature_labels)\n",
    "\n",
    "df = pd.concat([df, gen_features], axis=1)"
   ]
  },
  {
   "cell_type": "code",
   "execution_count": 122,
   "metadata": {},
   "outputs": [],
   "source": [
    "bins = [0,.65,.85,4]\n",
    "labels = [1,2,3]\n",
    "df['slope_bin'] = pd.cut(df['slope_tan'], bins, labels = labels)\n",
    "\n",
    "df['slope_bin'] = df['slope_bin'].astype('int64')"
   ]
  },
  {
   "cell_type": "code",
   "execution_count": 123,
   "metadata": {},
   "outputs": [],
   "source": [
    "bins = [0,90,180,270,360]\n",
    "#labels = ['NE','SE','SW','NW']\n",
    "labels = ['1','2','3','4']\n",
    "df['aspect_bin'] = pd.cut(df['aspect'], bins = bins, labels = labels)\n",
    "\n",
    "df['aspect_bin'] = df['aspect_bin'].astype('int64')"
   ]
  },
  {
   "cell_type": "code",
   "execution_count": 124,
   "metadata": {},
   "outputs": [],
   "source": [
    "aspect_dummy_features = pd.get_dummies(df['aspect_bin'])\n",
    "df = pd.concat([df, aspect_dummy_features], \n",
    "          axis=1)"
   ]
  },
  {
   "cell_type": "code",
   "execution_count": 125,
   "metadata": {},
   "outputs": [],
   "source": [
    "LU_dummy_features = pd.get_dummies(df['lulc'], prefix='LU')\n",
    "df = pd.concat([df, LU_dummy_features], \n",
    "          axis=1)"
   ]
  },
  {
   "cell_type": "code",
   "execution_count": 126,
   "metadata": {},
   "outputs": [],
   "source": [
    "DA_dummy_features = pd.get_dummies(df['DA_area'], prefix = 'DA')\n",
    "df = pd.concat([df, DA_dummy_features], \n",
    "          axis=1)"
   ]
  },
  {
   "cell_type": "code",
   "execution_count": 127,
   "metadata": {},
   "outputs": [],
   "source": [
    "df['prob_inh_log'] = np.log(df['prob_inh'])"
   ]
  },
  {
   "cell_type": "code",
   "execution_count": 128,
   "metadata": {},
   "outputs": [],
   "source": [
    "df['slope_log'] = np.log(df['slope_tan'])"
   ]
  },
  {
   "cell_type": "code",
   "execution_count": 129,
   "metadata": {},
   "outputs": [
    {
     "data": {
      "text/html": [
       "<div>\n",
       "<style scoped>\n",
       "    .dataframe tbody tr th:only-of-type {\n",
       "        vertical-align: middle;\n",
       "    }\n",
       "\n",
       "    .dataframe tbody tr th {\n",
       "        vertical-align: top;\n",
       "    }\n",
       "\n",
       "    .dataframe thead th {\n",
       "        text-align: right;\n",
       "    }\n",
       "</style>\n",
       "<table border=\"1\" class=\"dataframe\">\n",
       "  <thead>\n",
       "    <tr style=\"text-align: right;\">\n",
       "      <th></th>\n",
       "      <th>LS_type</th>\n",
       "      <th>DA_area</th>\n",
       "      <th>prob_inh</th>\n",
       "      <th>prob_dyn</th>\n",
       "      <th>slope_tan</th>\n",
       "      <th>elevation</th>\n",
       "      <th>curvature</th>\n",
       "      <th>aspect</th>\n",
       "      <th>wet_index</th>\n",
       "      <th>litho</th>\n",
       "      <th>...</th>\n",
       "      <th>LU_21.0</th>\n",
       "      <th>LU_31.0</th>\n",
       "      <th>LU_41.0</th>\n",
       "      <th>LU_52.0</th>\n",
       "      <th>LU_71.0</th>\n",
       "      <th>DA_1.0</th>\n",
       "      <th>DA_2.0</th>\n",
       "      <th>DA_3.0</th>\n",
       "      <th>prob_inh_log</th>\n",
       "      <th>slope_log</th>\n",
       "    </tr>\n",
       "  </thead>\n",
       "  <tbody>\n",
       "    <tr>\n",
       "      <th>0</th>\n",
       "      <td>0</td>\n",
       "      <td>3.0</td>\n",
       "      <td>0.0222</td>\n",
       "      <td>0.000</td>\n",
       "      <td>0.590219</td>\n",
       "      <td>1187.2250</td>\n",
       "      <td>0.032023</td>\n",
       "      <td>0.808429</td>\n",
       "      <td>5.473453</td>\n",
       "      <td>3.0</td>\n",
       "      <td>...</td>\n",
       "      <td>0</td>\n",
       "      <td>0</td>\n",
       "      <td>1</td>\n",
       "      <td>0</td>\n",
       "      <td>0</td>\n",
       "      <td>0</td>\n",
       "      <td>0</td>\n",
       "      <td>1</td>\n",
       "      <td>-3.807663</td>\n",
       "      <td>-0.527262</td>\n",
       "    </tr>\n",
       "    <tr>\n",
       "      <th>1</th>\n",
       "      <td>0</td>\n",
       "      <td>3.0</td>\n",
       "      <td>0.0156</td>\n",
       "      <td>0.140</td>\n",
       "      <td>1.238201</td>\n",
       "      <td>1215.5310</td>\n",
       "      <td>0.681722</td>\n",
       "      <td>11.066680</td>\n",
       "      <td>4.919455</td>\n",
       "      <td>6.0</td>\n",
       "      <td>...</td>\n",
       "      <td>0</td>\n",
       "      <td>0</td>\n",
       "      <td>1</td>\n",
       "      <td>0</td>\n",
       "      <td>0</td>\n",
       "      <td>0</td>\n",
       "      <td>0</td>\n",
       "      <td>1</td>\n",
       "      <td>-4.160484</td>\n",
       "      <td>0.213660</td>\n",
       "    </tr>\n",
       "    <tr>\n",
       "      <th>2</th>\n",
       "      <td>0</td>\n",
       "      <td>3.0</td>\n",
       "      <td>0.0304</td>\n",
       "      <td>0.000</td>\n",
       "      <td>0.504280</td>\n",
       "      <td>920.3857</td>\n",
       "      <td>0.960537</td>\n",
       "      <td>105.222600</td>\n",
       "      <td>5.267390</td>\n",
       "      <td>5.0</td>\n",
       "      <td>...</td>\n",
       "      <td>0</td>\n",
       "      <td>0</td>\n",
       "      <td>1</td>\n",
       "      <td>0</td>\n",
       "      <td>0</td>\n",
       "      <td>0</td>\n",
       "      <td>0</td>\n",
       "      <td>1</td>\n",
       "      <td>-3.493313</td>\n",
       "      <td>-0.684623</td>\n",
       "    </tr>\n",
       "    <tr>\n",
       "      <th>3</th>\n",
       "      <td>0</td>\n",
       "      <td>3.0</td>\n",
       "      <td>0.0958</td>\n",
       "      <td>0.000</td>\n",
       "      <td>0.528550</td>\n",
       "      <td>850.8190</td>\n",
       "      <td>-0.689792</td>\n",
       "      <td>272.803000</td>\n",
       "      <td>7.695759</td>\n",
       "      <td>1.0</td>\n",
       "      <td>...</td>\n",
       "      <td>0</td>\n",
       "      <td>0</td>\n",
       "      <td>1</td>\n",
       "      <td>0</td>\n",
       "      <td>0</td>\n",
       "      <td>0</td>\n",
       "      <td>0</td>\n",
       "      <td>1</td>\n",
       "      <td>-2.345493</td>\n",
       "      <td>-0.637618</td>\n",
       "    </tr>\n",
       "    <tr>\n",
       "      <th>4</th>\n",
       "      <td>0</td>\n",
       "      <td>3.0</td>\n",
       "      <td>0.0404</td>\n",
       "      <td>0.004</td>\n",
       "      <td>0.635189</td>\n",
       "      <td>1645.8110</td>\n",
       "      <td>0.965224</td>\n",
       "      <td>103.165300</td>\n",
       "      <td>6.052179</td>\n",
       "      <td>5.0</td>\n",
       "      <td>...</td>\n",
       "      <td>0</td>\n",
       "      <td>0</td>\n",
       "      <td>0</td>\n",
       "      <td>1</td>\n",
       "      <td>0</td>\n",
       "      <td>0</td>\n",
       "      <td>0</td>\n",
       "      <td>1</td>\n",
       "      <td>-3.208925</td>\n",
       "      <td>-0.453833</td>\n",
       "    </tr>\n",
       "  </tbody>\n",
       "</table>\n",
       "<p>5 rows × 33 columns</p>\n",
       "</div>"
      ],
      "text/plain": [
       "   LS_type  DA_area  prob_inh  prob_dyn  slope_tan  elevation  curvature  \\\n",
       "0        0      3.0    0.0222     0.000   0.590219  1187.2250   0.032023   \n",
       "1        0      3.0    0.0156     0.140   1.238201  1215.5310   0.681722   \n",
       "2        0      3.0    0.0304     0.000   0.504280   920.3857   0.960537   \n",
       "3        0      3.0    0.0958     0.000   0.528550   850.8190  -0.689792   \n",
       "4        0      3.0    0.0404     0.004   0.635189  1645.8110   0.965224   \n",
       "\n",
       "       aspect  wet_index  litho  ...  LU_21.0  LU_31.0  LU_41.0  LU_52.0  \\\n",
       "0    0.808429   5.473453    3.0  ...        0        0        1        0   \n",
       "1   11.066680   4.919455    6.0  ...        0        0        1        0   \n",
       "2  105.222600   5.267390    5.0  ...        0        0        1        0   \n",
       "3  272.803000   7.695759    1.0  ...        0        0        1        0   \n",
       "4  103.165300   6.052179    5.0  ...        0        0        0        1   \n",
       "\n",
       "   LU_71.0  DA_1.0  DA_2.0  DA_3.0  prob_inh_log  slope_log  \n",
       "0        0       0       0       1     -3.807663  -0.527262  \n",
       "1        0       0       0       1     -4.160484   0.213660  \n",
       "2        0       0       0       1     -3.493313  -0.684623  \n",
       "3        0       0       0       1     -2.345493  -0.637618  \n",
       "4        0       0       0       1     -3.208925  -0.453833  \n",
       "\n",
       "[5 rows x 33 columns]"
      ]
     },
     "execution_count": 129,
     "metadata": {},
     "output_type": "execute_result"
    }
   ],
   "source": [
    "df.head()"
   ]
  },
  {
   "cell_type": "code",
   "execution_count": 130,
   "metadata": {},
   "outputs": [],
   "source": [
    "#splitting dep and ind vars 'prob_dyn','NW',\n",
    "y = pd.DataFrame(df['LS_type'])\n",
    "#Model for logistic regression and SVM\n",
    "X = df[['prob_inh_log','slope_bin','wet_index','LU_31.0','LU_41.0','LU_52.0',\n",
    "    'LU_71.0','1','SE','SW','DA_3.0']]\n",
    "\n",
    "#Model for trees and forests\n",
    "#X = df[['DA_area','prob_inh','prob_dyn','slope_bin','elevation','curvature','aspect_bin','litho','lulc']]"
   ]
  },
  {
   "cell_type": "code",
   "execution_count": 132,
   "metadata": {},
   "outputs": [],
   "source": [
    "#splitting training and test data\n",
    "from sklearn import tree\n",
    "from sklearn.model_selection import train_test_split\n",
    "\n",
    "X_train, X_test, y_train, y_test = train_test_split(X, y, test_size=0.2, random_state=20)"
   ]
  },
  {
   "cell_type": "code",
   "execution_count": 133,
   "metadata": {},
   "outputs": [],
   "source": [
    "#Oversampling - comment out if decide not to oversample\n",
    "from imblearn import over_sampling\n",
    "\n",
    "# define oversampling strategy\n",
    "oversample = over_sampling.SMOTE(sampling_strategy = .5, random_state=20)\n",
    "\n",
    "X_train, y_train = oversample.fit_resample(X_train, y_train)"
   ]
  },
  {
   "cell_type": "markdown",
   "metadata": {},
   "source": [
    "# Decision Tree"
   ]
  },
  {
   "cell_type": "code",
   "execution_count": 136,
   "metadata": {},
   "outputs": [
    {
     "name": "stdout",
     "output_type": "stream",
     "text": [
      "[0.87855946 0.87939698 0.88902848 0.91247906 0.92085427 0.92671692\n",
      " 0.93551089 0.93718593 0.95100503 0.98450586]\n",
      "[0.8925 0.8425 0.855  0.8575 0.8675 0.86   0.86   0.8475 0.8625 0.84  ]\n"
     ]
    },
    {
     "data": {
      "image/png": "[encoded data removed]",
      "text/plain": [
       "<Figure size 432x288 with 1 Axes>"
      ]
     },
     "metadata": {
      "needs_background": "light"
     },
     "output_type": "display_data"
    }
   ],
   "source": [
    "from sklearn.metrics import accuracy_score\n",
    "\n",
    "maxdepths = [2,3,4,5,6,7,8,9,10,15]\n",
    "\n",
    "trainAcc = np.zeros(len(maxdepths))\n",
    "testAcc = np.zeros(len(maxdepths))\n",
    "\n",
    "index = 0\n",
    "for depth in maxdepths:\n",
    "    clf = tree.DecisionTreeClassifier(criterion = 'entropy', max_depth=depth)\n",
    "    clf = clf.fit(X_train, y_train)\n",
    "    y_predTrain = clf.predict(X_train)\n",
    "    y_predTest = clf.predict(X_test)\n",
    "    trainAcc[index] = accuracy_score(y_train, y_predTrain)\n",
    "    testAcc[index] = accuracy_score(y_test, y_predTest)\n",
    "    index += 1\n",
    "    \n",
    "#########################################\n",
    "# Plot of training and test accuracies\n",
    "#########################################\n",
    "    \n",
    "plt.plot(maxdepths,trainAcc,'ro-',maxdepths,testAcc,'bv--')\n",
    "plt.legend(['Training Accuracy','Test Accuracy'])\n",
    "plt.xlabel('Max depth')\n",
    "plt.ylabel('Accuracy')\n",
    "\n",
    "print(trainAcc)\n",
    "print(testAcc)"
   ]
  },
  {
   "cell_type": "code",
   "execution_count": 89,
   "metadata": {},
   "outputs": [
    {
     "data": {
      "text/html": [
       "<div>\n",
       "<style scoped>\n",
       "    .dataframe tbody tr th:only-of-type {\n",
       "        vertical-align: middle;\n",
       "    }\n",
       "\n",
       "    .dataframe tbody tr th {\n",
       "        vertical-align: top;\n",
       "    }\n",
       "\n",
       "    .dataframe thead th {\n",
       "        text-align: right;\n",
       "    }\n",
       "</style>\n",
       "<table border=\"1\" class=\"dataframe\">\n",
       "  <thead>\n",
       "    <tr style=\"text-align: right;\">\n",
       "      <th></th>\n",
       "      <th>train</th>\n",
       "      <th>test</th>\n",
       "    </tr>\n",
       "  </thead>\n",
       "  <tbody>\n",
       "    <tr>\n",
       "      <th>0</th>\n",
       "      <td>0.896706</td>\n",
       "      <td>0.8925</td>\n",
       "    </tr>\n",
       "    <tr>\n",
       "      <th>1</th>\n",
       "      <td>0.896706</td>\n",
       "      <td>0.8925</td>\n",
       "    </tr>\n",
       "    <tr>\n",
       "      <th>2</th>\n",
       "      <td>0.896706</td>\n",
       "      <td>0.8925</td>\n",
       "    </tr>\n",
       "    <tr>\n",
       "      <th>3</th>\n",
       "      <td>0.900614</td>\n",
       "      <td>0.8850</td>\n",
       "    </tr>\n",
       "    <tr>\n",
       "      <th>4</th>\n",
       "      <td>0.908431</td>\n",
       "      <td>0.8900</td>\n",
       "    </tr>\n",
       "    <tr>\n",
       "      <th>5</th>\n",
       "      <td>0.914573</td>\n",
       "      <td>0.8600</td>\n",
       "    </tr>\n",
       "    <tr>\n",
       "      <th>6</th>\n",
       "      <td>0.924065</td>\n",
       "      <td>0.8700</td>\n",
       "    </tr>\n",
       "    <tr>\n",
       "      <th>7</th>\n",
       "      <td>0.932998</td>\n",
       "      <td>0.8600</td>\n",
       "    </tr>\n",
       "    <tr>\n",
       "      <th>8</th>\n",
       "      <td>0.941374</td>\n",
       "      <td>0.8525</td>\n",
       "    </tr>\n",
       "    <tr>\n",
       "      <th>9</th>\n",
       "      <td>0.986041</td>\n",
       "      <td>0.8500</td>\n",
       "    </tr>\n",
       "  </tbody>\n",
       "</table>\n",
       "</div>"
      ],
      "text/plain": [
       "      train    test\n",
       "0  0.896706  0.8925\n",
       "1  0.896706  0.8925\n",
       "2  0.896706  0.8925\n",
       "3  0.900614  0.8850\n",
       "4  0.908431  0.8900\n",
       "5  0.914573  0.8600\n",
       "6  0.924065  0.8700\n",
       "7  0.932998  0.8600\n",
       "8  0.941374  0.8525\n",
       "9  0.986041  0.8500"
      ]
     },
     "execution_count": 89,
     "metadata": {},
     "output_type": "execute_result"
    }
   ],
   "source": [
    "d = {'train': trainAcc, 'test': testAcc}\n",
    "pd.DataFrame(d, columns=['train','test'])"
   ]
  },
  {
   "cell_type": "code",
   "execution_count": 90,
   "metadata": {},
   "outputs": [
    {
     "name": "stdout",
     "output_type": "stream",
     "text": [
      "training data prediction accuracy: 0.897\n",
      "testing data prediction accuracy: 0.892\n",
      "Precision: 1.000\n",
      "Recall: 0.543\n"
     ]
    }
   ],
   "source": [
    "from sklearn.metrics import precision_score\n",
    "from sklearn.metrics import recall_score\n",
    "\n",
    "clf = tree.DecisionTreeClassifier(criterion='entropy', max_depth=2)\n",
    "clf = clf.fit(X_train, y_train)\n",
    "y_pred_train = clf.predict(X_train) \n",
    "y_pred_test = clf.predict(X_test)\n",
    "\n",
    "precision  = precision_score(y_test, y_pred_test)\n",
    "recall = recall_score(y_test, y_pred_test)\n",
    "print(\"training data prediction accuracy:\", \"%.3f\" %accuracy_score(y_train, y_pred_train))\n",
    "print(\"testing data prediction accuracy:\", \"%.3f\" %accuracy_score(y_test, y_pred_test))\n",
    "print('Precision: %.3f' % precision)\n",
    "print('Recall: %.3f' % recall)"
   ]
  },
  {
   "cell_type": "code",
   "execution_count": 91,
   "metadata": {},
   "outputs": [
    {
     "name": "stdout",
     "output_type": "stream",
     "text": [
      "     predicted  actual  diff  pred_category\n",
      "0            1       1     0              1\n",
      "1            0       1    -1              0\n",
      "2            0       1    -1              0\n",
      "3            1       1     0              1\n",
      "4            0       0     0              0\n",
      "..         ...     ...   ...            ...\n",
      "395          0       0     0              0\n",
      "396          1       1     0              1\n",
      "397          0       0     0              0\n",
      "398          0       0     0              0\n",
      "399          0       0     0              0\n",
      "\n",
      "[400 rows x 4 columns]\n"
     ]
    }
   ],
   "source": [
    "#Comparing actual and predicted results\n",
    "tree = pd.DataFrame(y_pred_test, columns=['predicted'])\n",
    "tree = tree.assign(actual=y_test.values)\n",
    "tree[\"diff\"] = tree[\"predicted\"] - tree['actual']\n",
    "tree['pred_category'] = [1 if x > 0.5 else 0 for x in tree['predicted']]\n",
    "print(tree)"
   ]
  },
  {
   "cell_type": "code",
   "execution_count": 92,
   "metadata": {},
   "outputs": [
    {
     "data": {
      "text/html": [
       "<div>\n",
       "<style scoped>\n",
       "    .dataframe tbody tr th:only-of-type {\n",
       "        vertical-align: middle;\n",
       "    }\n",
       "\n",
       "    .dataframe tbody tr th {\n",
       "        vertical-align: top;\n",
       "    }\n",
       "\n",
       "    .dataframe thead th {\n",
       "        text-align: right;\n",
       "    }\n",
       "</style>\n",
       "<table border=\"1\" class=\"dataframe\">\n",
       "  <thead>\n",
       "    <tr style=\"text-align: right;\">\n",
       "      <th>pred_category</th>\n",
       "      <th>0</th>\n",
       "      <th>1</th>\n",
       "    </tr>\n",
       "    <tr>\n",
       "      <th>actual</th>\n",
       "      <th></th>\n",
       "      <th></th>\n",
       "    </tr>\n",
       "  </thead>\n",
       "  <tbody>\n",
       "    <tr>\n",
       "      <th>0</th>\n",
       "      <td>306</td>\n",
       "      <td>0</td>\n",
       "    </tr>\n",
       "    <tr>\n",
       "      <th>1</th>\n",
       "      <td>43</td>\n",
       "      <td>51</td>\n",
       "    </tr>\n",
       "  </tbody>\n",
       "</table>\n",
       "</div>"
      ],
      "text/plain": [
       "pred_category    0   1\n",
       "actual                \n",
       "0              306   0\n",
       "1               43  51"
      ]
     },
     "execution_count": 92,
     "metadata": {},
     "output_type": "execute_result"
    }
   ],
   "source": [
    "#Confusion Matrix\n",
    "pd.crosstab([tree['actual']],tree['pred_category'])"
   ]
  },
  {
   "cell_type": "code",
   "execution_count": 94,
   "metadata": {
    "scrolled": true
   },
   "outputs": [
    {
     "data": {
      "image/png": "[encoded data removed]",
      "text/plain": [
       "<Figure size 900x900 with 1 Axes>"
      ]
     },
     "metadata": {
      "needs_background": "light"
     },
     "output_type": "display_data"
    }
   ],
   "source": [
    "from sklearn import tree\n",
    "\n",
    "fn=['prob_inh_log','slope_bin','wet_index','LU_31.0','LU_41.0','LU_52.0',\n",
    "     'LU_71.0','1','SE','SW','DA_3.0']\n",
    "cn=['slide','no_slide']\n",
    "fig, axes = plt.subplots(nrows = 1,ncols = 1,figsize = (3,3), dpi=300)\n",
    "tree.plot_tree(clf,\n",
    "               feature_names = fn, \n",
    "               class_names=cn,\n",
    "               filled = True)\n",
    "\n",
    "#plt.savefig(\"tree\")"
   ]
  },
  {
   "cell_type": "markdown",
   "metadata": {},
   "source": [
    "# Logistic Regression"
   ]
  },
  {
   "cell_type": "code",
   "execution_count": 853,
   "metadata": {},
   "outputs": [
    {
     "name": "stdout",
     "output_type": "stream",
     "text": [
      "training data prediction accuracy: 0.878\n",
      "testing data prediction accuracy: 0.897\n",
      "Precision: 0.908\n",
      "Recall: 0.628\n"
     ]
    }
   ],
   "source": [
    "from sklearn import linear_model\n",
    "\n",
    "clf2 = make_pipeline(StandardScaler(), linear_model.LogisticRegression(penalty='none'))\n",
    "clf2.fit(X_train, y_train.values.ravel())\n",
    "y_pred_train = clf2.predict(X_train)\n",
    "y_pred_test = clf2.predict(X_test)\n",
    "\n",
    "precision  = precision_score(y_test, y_pred_test)\n",
    "recall = recall_score(y_test, y_pred_test)\n",
    "print(\"training data prediction accuracy:\", \"%.3f\" %accuracy_score(y_train, y_pred_train))\n",
    "print(\"testing data prediction accuracy:\", \"%.3f\" %accuracy_score(y_test, y_pred_test))\n",
    "print('Precision: %.3f' % precision)\n",
    "print('Recall: %.3f' % recall)"
   ]
  },
  {
   "cell_type": "code",
   "execution_count": 854,
   "metadata": {},
   "outputs": [
    {
     "name": "stdout",
     "output_type": "stream",
     "text": [
      "                           Logit Regression Results                           \n",
      "==============================================================================\n",
      "Dep. Variable:                LS_type   No. Observations:                 1791\n",
      "Model:                          Logit   Df Residuals:                     1780\n",
      "Method:                           MLE   Df Model:                           10\n",
      "Date:                Mon, 18 May 2020   Pseudo R-squ.:                  0.5104\n",
      "Time:                        21:53:42   Log-Likelihood:                -558.09\n",
      "converged:                       True   LL-Null:                       -1140.0\n",
      "Covariance Type:            nonrobust   LLR p-value:                9.223e-244\n",
      "================================================================================\n",
      "                   coef    std err          z      P>|z|      [0.025      0.975]\n",
      "--------------------------------------------------------------------------------\n",
      "prob_inh_log    -0.7579      0.183     -4.151      0.000      -1.116      -0.400\n",
      "slope_bin       -0.8573      0.136     -6.288      0.000      -1.125      -0.590\n",
      "wet_index        0.1900      0.058      3.280      0.001       0.076       0.304\n",
      "LU_31.0          3.4555      0.841      4.106      0.000       1.806       5.105\n",
      "LU_41.0          1.7813      0.831      2.144      0.032       0.153       3.410\n",
      "LU_52.0          3.2571      0.819      3.975      0.000       1.651       4.863\n",
      "LU_71.0          3.5980      0.846      4.252      0.000       1.939       5.256\n",
      "1                1.4823      0.312      4.755      0.000       0.871       2.093\n",
      "SE              -0.4447      0.202     -2.202      0.028      -0.841      -0.049\n",
      "SW              -1.2329      0.228     -5.419      0.000      -1.679      -0.787\n",
      "DA_3.0          -6.6876      0.448    -14.935      0.000      -7.565      -5.810\n",
      "================================================================================\n",
      "        Logit Marginal Effects       \n",
      "=====================================\n",
      "Dep. Variable:                LS_type\n",
      "Method:                          dydx\n",
      "At:                           overall\n",
      "================================================================================\n",
      "                  dy/dx    std err          z      P>|z|      [0.025      0.975]\n",
      "--------------------------------------------------------------------------------\n",
      "prob_inh_log    -0.0717      0.017     -4.195      0.000      -0.105      -0.038\n",
      "slope_bin       -0.0811      0.013     -6.407      0.000      -0.106      -0.056\n",
      "wet_index        0.0180      0.005      3.307      0.001       0.007       0.029\n",
      "LU_31.0          0.3271      0.079      4.132      0.000       0.172       0.482\n",
      "LU_41.0          0.1686      0.079      2.144      0.032       0.014       0.323\n",
      "LU_52.0          0.3083      0.077      3.993      0.000       0.157       0.460\n",
      "LU_71.0          0.3406      0.080      4.278      0.000       0.185       0.497\n",
      "1                0.1403      0.029      4.842      0.000       0.084       0.197\n",
      "SE              -0.0421      0.019     -2.211      0.027      -0.079      -0.005\n",
      "SW              -0.1167      0.021     -5.539      0.000      -0.158      -0.075\n",
      "DA_3.0          -0.6330      0.036    -17.584      0.000      -0.704      -0.562\n",
      "================================================================================\n"
     ]
    }
   ],
   "source": [
    "import statsmodels.api as sm\n",
    "import statsmodels.formula.api as smf\n",
    "\n",
    "logit_mod = sm.Logit(y_train, X_train)\n",
    "logit_res = logit_mod.fit(disp=0)\n",
    "print(logit_res.summary())\n",
    "margeff = logit_res.get_margeff()\n",
    "print(margeff.summary())"
   ]
  },
  {
   "cell_type": "code",
   "execution_count": 856,
   "metadata": {},
   "outputs": [
    {
     "name": "stdout",
     "output_type": "stream",
     "text": [
      "     predicted  actual      diff  pred_category\n",
      "0     0.996168       1 -0.003832              1\n",
      "1     0.130827       1 -0.869173              0\n",
      "2     0.225091       1 -0.774909              0\n",
      "3     0.954635       1 -0.045365              1\n",
      "4     0.171538       0  0.171538              0\n",
      "..         ...     ...       ...            ...\n",
      "395   0.303593       0  0.303593              0\n",
      "396   0.986992       1 -0.013008              1\n",
      "397   0.225492       0  0.225492              0\n",
      "398   0.092989       0  0.092989              0\n",
      "399   0.053652       0  0.053652              0\n",
      "\n",
      "[400 rows x 4 columns]\n"
     ]
    }
   ],
   "source": [
    "#Comparing actual and predicted results\n",
    "df1 = pd.DataFrame(y_pred_test, columns=['predicted'])\n",
    "df1 = df1.assign(actual=y_test.values)\n",
    "df1[\"diff\"] = df1[\"predicted\"] - df1['actual']\n",
    "df1['pred_category'] = [1 if x > 0.5 else 0 for x in df1['predicted']]\n",
    "print(df1)"
   ]
  },
  {
   "cell_type": "code",
   "execution_count": 857,
   "metadata": {},
   "outputs": [
    {
     "data": {
      "text/html": [
       "<div>\n",
       "<style scoped>\n",
       "    .dataframe tbody tr th:only-of-type {\n",
       "        vertical-align: middle;\n",
       "    }\n",
       "\n",
       "    .dataframe tbody tr th {\n",
       "        vertical-align: top;\n",
       "    }\n",
       "\n",
       "    .dataframe thead th {\n",
       "        text-align: right;\n",
       "    }\n",
       "</style>\n",
       "<table border=\"1\" class=\"dataframe\">\n",
       "  <thead>\n",
       "    <tr style=\"text-align: right;\">\n",
       "      <th>pred_category</th>\n",
       "      <th>0</th>\n",
       "      <th>1</th>\n",
       "    </tr>\n",
       "    <tr>\n",
       "      <th>actual</th>\n",
       "      <th></th>\n",
       "      <th></th>\n",
       "    </tr>\n",
       "  </thead>\n",
       "  <tbody>\n",
       "    <tr>\n",
       "      <th>0</th>\n",
       "      <td>299</td>\n",
       "      <td>7</td>\n",
       "    </tr>\n",
       "    <tr>\n",
       "      <th>1</th>\n",
       "      <td>40</td>\n",
       "      <td>54</td>\n",
       "    </tr>\n",
       "  </tbody>\n",
       "</table>\n",
       "</div>"
      ],
      "text/plain": [
       "pred_category    0   1\n",
       "actual                \n",
       "0              299   7\n",
       "1               40  54"
      ]
     },
     "execution_count": 857,
     "metadata": {},
     "output_type": "execute_result"
    }
   ],
   "source": [
    "#Confusion Matrix\n",
    "pd.crosstab([df1['actual']],df1['pred_category'])"
   ]
  },
  {
   "cell_type": "code",
   "execution_count": 858,
   "metadata": {},
   "outputs": [
    {
     "data": {
      "text/plain": [
       "Text(0, 0.5, 'predicted y - actual y')"
      ]
     },
     "execution_count": 858,
     "metadata": {},
     "output_type": "execute_result"
    },
    {
     "data": {
      "image/png": "[encoded data removed]",
      "text/plain": [
       "<Figure size 864x432 with 2 Axes>"
      ]
     },
     "metadata": {
      "needs_background": "light"
     },
     "output_type": "display_data"
    }
   ],
   "source": [
    "#Residual plots\n",
    "\n",
    "fig, (ax1, ax2) = plt.subplots(1, 2, figsize=(12,6))\n",
    "ax1.scatter(df1[\"predicted\"], (df1[\"predicted\"] - df1['actual']), c='b')\n",
    "ax1.hlines(y=0, xmin= 0, xmax=1)\n",
    "ax1.set_title('residual plot')\n",
    "ax1.set_xlabel('predicted y values')\n",
    "ax1.set_ylabel('predicted y - actual y')\n",
    "\n",
    "ax2.scatter(df1[\"actual\"], (df1[\"predicted\"] - df1['actual']), c='b')\n",
    "ax2.hlines(y=0, xmin= 0, xmax=1)\n",
    "ax2.set_title('residual plot')\n",
    "ax2.set_xlabel('actual y values')\n",
    "ax2.set_ylabel('predicted y - actual y')"
   ]
  },
  {
   "cell_type": "markdown",
   "metadata": {},
   "source": [
    "# SVM"
   ]
  },
  {
   "cell_type": "code",
   "execution_count": 859,
   "metadata": {},
   "outputs": [
    {
     "data": {
      "text/plain": [
       "Text(0, 0.5, 'Accuracy')"
      ]
     },
     "execution_count": 859,
     "metadata": {},
     "output_type": "execute_result"
    },
    {
     "data": {
      "image/png": "[encoded data removed]",
      "text/plain": [
       "<Figure size 432x288 with 1 Axes>"
      ]
     },
     "metadata": {
      "needs_background": "light"
     },
     "output_type": "display_data"
    }
   ],
   "source": [
    "from sklearn.svm import SVC\n",
    "from sklearn.pipeline import make_pipeline\n",
    "from sklearn.preprocessing import StandardScaler\n",
    "\n",
    "C = [.5,1,2,3,4,5,10,15]\n",
    "SVMtrainAcc = []\n",
    "SVMtestAcc = []\n",
    "\n",
    "for param in C:\n",
    "    clf = make_pipeline(StandardScaler(), SVC(C=param,kernel='rbf',gamma='auto'))\n",
    "    clf.fit(X_train, y_train.values.ravel())\n",
    "    y_pred_train = clf.predict(X_train)\n",
    "    y_pred_test = clf.predict(X_test)\n",
    "    SVMtrainAcc.append(accuracy_score(y_train, y_pred_train))\n",
    "    SVMtestAcc.append(accuracy_score(y_test, y_pred_test))\n",
    "\n",
    "plt.plot(C, SVMtrainAcc, 'ro-', C, SVMtestAcc,'bv--')\n",
    "plt.legend(['Training Accuracy','Test Accuracy'])\n",
    "plt.xlabel('C')\n",
    "plt.ylabel('Accuracy')"
   ]
  },
  {
   "cell_type": "code",
   "execution_count": 870,
   "metadata": {},
   "outputs": [
    {
     "name": "stdout",
     "output_type": "stream",
     "text": [
      "training data prediction accuracy: 0.880\n",
      "testing data prediction accuracy: 0.895\n",
      "Precision: 0.981\n",
      "Recall: 0.564\n"
     ]
    }
   ],
   "source": [
    "clf = make_pipeline(StandardScaler(), SVC(C=1,kernel='rbf',gamma='auto'))\n",
    "clf.fit(X_train, y_train.values.ravel())\n",
    "y_pred_train = clf.predict(X_train)\n",
    "y_pred_test = clf.predict(X_test)\n",
    "\n",
    "precision  = precision_score(y_test, y_pred_test)\n",
    "recall = recall_score(y_test, y_pred_test)\n",
    "print(\"training data prediction accuracy:\", \"%.3f\" %accuracy_score(y_train, y_pred_train))\n",
    "print(\"testing data prediction accuracy:\", \"%.3f\" %accuracy_score(y_test, y_pred_test))\n",
    "print('Precision: %.3f' % precision)\n",
    "print('Recall: %.3f' % recall)"
   ]
  },
  {
   "cell_type": "code",
   "execution_count": 871,
   "metadata": {},
   "outputs": [
    {
     "name": "stdout",
     "output_type": "stream",
     "text": [
      "     predicted  actual  diff  pred_category\n",
      "0            1       1     0              1\n",
      "1            0       1    -1              0\n",
      "2            0       1    -1              0\n",
      "3            1       1     0              1\n",
      "4            0       0     0              0\n",
      "..         ...     ...   ...            ...\n",
      "395          0       0     0              0\n",
      "396          1       1     0              1\n",
      "397          0       0     0              0\n",
      "398          0       0     0              0\n",
      "399          0       0     0              0\n",
      "\n",
      "[400 rows x 4 columns]\n"
     ]
    }
   ],
   "source": [
    "#Comparing actual and predicted results\n",
    "svmdf = pd.DataFrame(y_pred_test, columns=['predicted'])\n",
    "svmdf = svmdf.assign(actual=y_test.values)\n",
    "svmdf[\"diff\"] = svmdf[\"predicted\"] - svmdf['actual']\n",
    "svmdf['pred_category'] = [1 if x > 0.5 else 0 for x in svmdf['predicted']]\n",
    "print(svmdf)"
   ]
  },
  {
   "cell_type": "code",
   "execution_count": 872,
   "metadata": {},
   "outputs": [
    {
     "data": {
      "text/html": [
       "<div>\n",
       "<style scoped>\n",
       "    .dataframe tbody tr th:only-of-type {\n",
       "        vertical-align: middle;\n",
       "    }\n",
       "\n",
       "    .dataframe tbody tr th {\n",
       "        vertical-align: top;\n",
       "    }\n",
       "\n",
       "    .dataframe thead th {\n",
       "        text-align: right;\n",
       "    }\n",
       "</style>\n",
       "<table border=\"1\" class=\"dataframe\">\n",
       "  <thead>\n",
       "    <tr style=\"text-align: right;\">\n",
       "      <th>pred_category</th>\n",
       "      <th>0</th>\n",
       "      <th>1</th>\n",
       "    </tr>\n",
       "    <tr>\n",
       "      <th>actual</th>\n",
       "      <th></th>\n",
       "      <th></th>\n",
       "    </tr>\n",
       "  </thead>\n",
       "  <tbody>\n",
       "    <tr>\n",
       "      <th>0</th>\n",
       "      <td>305</td>\n",
       "      <td>1</td>\n",
       "    </tr>\n",
       "    <tr>\n",
       "      <th>1</th>\n",
       "      <td>41</td>\n",
       "      <td>53</td>\n",
       "    </tr>\n",
       "  </tbody>\n",
       "</table>\n",
       "</div>"
      ],
      "text/plain": [
       "pred_category    0   1\n",
       "actual                \n",
       "0              305   1\n",
       "1               41  53"
      ]
     },
     "execution_count": 872,
     "metadata": {},
     "output_type": "execute_result"
    }
   ],
   "source": [
    "pd.crosstab([svmdf['actual']],svmdf['pred_category'])"
   ]
  },
  {
   "cell_type": "markdown",
   "metadata": {},
   "source": [
    "# Random Forest"
   ]
  },
  {
   "cell_type": "code",
   "execution_count": 134,
   "metadata": {},
   "outputs": [
    {
     "name": "stdout",
     "output_type": "stream",
     "text": [
      "train: [1.0]\n",
      "test: [0.895]\n",
      "precision [0.9193548387096774]\n",
      "recall [0.6063829787234043]\n"
     ]
    }
   ],
   "source": [
    "from sklearn import ensemble\n",
    "from sklearn.tree import DecisionTreeClassifier\n",
    "\n",
    "numBaseClassifiers = 500\n",
    "maxdepth = 1\n",
    "trainAcc = []\n",
    "testAcc = []\n",
    "prec = []\n",
    "recall = []\n",
    "\n",
    "clf = ensemble.RandomForestClassifier(n_estimators=numBaseClassifiers)\n",
    "clf.fit(X_train, y_train.values.ravel())\n",
    "y_pred_train = clf.predict(X_train)\n",
    "y_pred_test = clf.predict(X_test)\n",
    "\n",
    "#Scores\n",
    "trainAcc.append(accuracy_score(y_train, y_pred_train))\n",
    "testAcc.append(accuracy_score(y_test, y_pred_test))\n",
    "prec.append(precision_score(y_test, y_pred_test))\n",
    "recall.append(recall_score(y_test, y_pred_test))\n",
    "\n",
    "print(\"train:\", trainAcc)\n",
    "print(\"test:\", testAcc)\n",
    "print(\"precision\", prec)\n",
    "print(\"recall\", recall)"
   ]
  },
  {
   "cell_type": "code",
   "execution_count": 135,
   "metadata": {},
   "outputs": [
    {
     "name": "stdout",
     "output_type": "stream",
     "text": [
      "0.9489112227805695\n",
      "0.8725\n"
     ]
    }
   ],
   "source": [
    "clf = ensemble.AdaBoostClassifier(DecisionTreeClassifier(max_depth=maxdepth),n_estimators=numBaseClassifiers)\n",
    "clf.fit(X_train, y_train.values.ravel())\n",
    "y_pred_train = clf.predict(X_train)\n",
    "y_pred_test = clf.predict(X_test)\n",
    "\n",
    "print(accuracy_score(y_train, y_pred_train))\n",
    "print(accuracy_score(y_test, y_pred_test))"
   ]
  },
  {
   "cell_type": "code",
   "execution_count": 117,
   "metadata": {},
   "outputs": [
    {
     "name": "stdout",
     "output_type": "stream",
     "text": [
      "     predicted  actual  diff  pred_category\n",
      "0            1       1     0              1\n",
      "1            0       1    -1              0\n",
      "2            0       1    -1              0\n",
      "3            1       1     0              1\n",
      "4            0       0     0              0\n",
      "..         ...     ...   ...            ...\n",
      "395          0       0     0              0\n",
      "396          1       1     0              1\n",
      "397          0       0     0              0\n",
      "398          0       0     0              0\n",
      "399          0       0     0              0\n",
      "\n",
      "[400 rows x 4 columns]\n"
     ]
    }
   ],
   "source": [
    "#Comparing actual and predicted results\n",
    "df1 = pd.DataFrame(y_pred_test, columns=['predicted'])\n",
    "df1 = df1.assign(actual=y_test.values)\n",
    "df1[\"diff\"] = df1[\"predicted\"] - df1['actual']\n",
    "df1['pred_category'] = [1 if x > 0.5 else 0 for x in df1['predicted']]\n",
    "print(df1)"
   ]
  },
  {
   "cell_type": "code",
   "execution_count": 118,
   "metadata": {},
   "outputs": [
    {
     "data": {
      "text/html": [
       "<div>\n",
       "<style scoped>\n",
       "    .dataframe tbody tr th:only-of-type {\n",
       "        vertical-align: middle;\n",
       "    }\n",
       "\n",
       "    .dataframe tbody tr th {\n",
       "        vertical-align: top;\n",
       "    }\n",
       "\n",
       "    .dataframe thead th {\n",
       "        text-align: right;\n",
       "    }\n",
       "</style>\n",
       "<table border=\"1\" class=\"dataframe\">\n",
       "  <thead>\n",
       "    <tr style=\"text-align: right;\">\n",
       "      <th>pred_category</th>\n",
       "      <th>0</th>\n",
       "      <th>1</th>\n",
       "    </tr>\n",
       "    <tr>\n",
       "      <th>actual</th>\n",
       "      <th></th>\n",
       "      <th></th>\n",
       "    </tr>\n",
       "  </thead>\n",
       "  <tbody>\n",
       "    <tr>\n",
       "      <th>0</th>\n",
       "      <td>295</td>\n",
       "      <td>11</td>\n",
       "    </tr>\n",
       "    <tr>\n",
       "      <th>1</th>\n",
       "      <td>38</td>\n",
       "      <td>56</td>\n",
       "    </tr>\n",
       "  </tbody>\n",
       "</table>\n",
       "</div>"
      ],
      "text/plain": [
       "pred_category    0   1\n",
       "actual                \n",
       "0              295  11\n",
       "1               38  56"
      ]
     },
     "execution_count": 118,
     "metadata": {},
     "output_type": "execute_result"
    }
   ],
   "source": [
    "#Confusion Matrix\n",
    "pd.crosstab([df1['actual']],df1['pred_category'])"
   ]
  },
  {
   "cell_type": "code",
   "execution_count": null,
   "metadata": {},
   "outputs": [],
   "source": []
  }
 ],
 "metadata": {
  "kernelspec": {
   "display_name": "Python 3",
   "language": "python",
   "name": "python3"
  },
  "language_info": {
   "codemirror_mode": {
    "name": "ipython",
    "version": 3
   },
   "file_extension": ".py",
   "mimetype": "text/x-python",
   "name": "python",
   "nbconvert_exporter": "python",
   "pygments_lexer": "ipython3",
   "version": "3.7.6"
  }
 },
 "nbformat": 4,
 "nbformat_minor": 4
}
